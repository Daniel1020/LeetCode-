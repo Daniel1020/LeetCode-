{
  "nbformat": 4,
  "nbformat_minor": 0,
  "metadata": {
    "colab": {
      "name": "Leetcode.ipynb",
      "provenance": [],
      "toc_visible": true,
      "authorship_tag": "ABX9TyPcCl+RdICMYB1C3Pecyvsy",
      "include_colab_link": true
    },
    "kernelspec": {
      "name": "python3",
      "display_name": "Python 3"
    }
  },
  "cells": [
    {
      "cell_type": "markdown",
      "metadata": {
        "id": "view-in-github",
        "colab_type": "text"
      },
      "source": [
        "<a href=\"https://colab.research.google.com/github/Daniel1020/LeetCode-/blob/master/Leetcode.ipynb\" target=\"_parent\"><img src=\"https://colab.research.google.com/assets/colab-badge.svg\" alt=\"Open In Colab\"/></a>"
      ]
    },
    {
      "cell_type": "code",
      "metadata": {
        "id": "_QxmD9lVL6Tp",
        "colab_type": "code",
        "colab": {}
      },
      "source": [
        "class Solution:\n",
        "    def multiply(self, num1: str, num2: str) -> str:\n",
        "        n, m = len(num1), len(num2)\n",
        "        if not n or not m:\n",
        "            return \"0\"\n",
        "        \n",
        "        result = [0] * (n + m)\n",
        "        for i in reversed(range(n)):\n",
        "            for j in reversed(range(m)):\n",
        "                current = int(result[i + j + 1]) + int(num1[i]) * int(num2[j])\n",
        "                result[i + j + 1] = current % 10\n",
        "                result[i + j] += current // 10\n",
        "        \n",
        "        for i, c in enumerate(result):\n",
        "            if c != 0:\n",
        "                return \"\".join(map(str, result[i:]))\n",
        "        \n",
        "        return \"0\"\n",
        "\n",
        "\n"
      ],
      "execution_count": null,
      "outputs": []
    },
    {
      "cell_type": "code",
      "metadata": {
        "id": "rUrsZsYZOnRH",
        "colab_type": "code",
        "colab": {
          "base_uri": "https://localhost:8080/",
          "height": 34
        },
        "outputId": "ad860d5f-08b4-4be2-88ef-b3dcc3a11e21"
      },
      "source": [
        "curr=[1,2,3]\n",
        "curr.pop()\n",
        "curr.append(4)\n",
        "curr"
      ],
      "execution_count": null,
      "outputs": [
        {
          "output_type": "execute_result",
          "data": {
            "text/plain": [
              "[1, 2, 4]"
            ]
          },
          "metadata": {
            "tags": []
          },
          "execution_count": 2
        }
      ]
    },
    {
      "cell_type": "markdown",
      "metadata": {
        "id": "-tSAIyVGSeGZ",
        "colab_type": "text"
      },
      "source": [
        "# Math\n"
      ]
    },
    {
      "cell_type": "markdown",
      "metadata": {
        "id": "iSTpITkRYfgk",
        "colab_type": "text"
      },
      "source": [
        "### 461-Hamming Distance"
      ]
    },
    {
      "cell_type": "code",
      "metadata": {
        "id": "giyAYzQgYnD-",
        "colab_type": "code",
        "colab": {}
      },
      "source": [
        "class Solution:\n",
        "    def hammingDistance(self, x: int, y: int) -> int:\n",
        "        xor=x ^y\n",
        "        distance=0\n",
        "        while xor:\n",
        "            if xor & 1:\n",
        "                distance +=1\n",
        "            xor= xor >> 1\n",
        "        return distance"
      ],
      "execution_count": null,
      "outputs": []
    },
    {
      "cell_type": "markdown",
      "metadata": {
        "id": "wJUM9YSxzd3-",
        "colab_type": "text"
      },
      "source": [
        "### 264-Ugly number II"
      ]
    },
    {
      "cell_type": "code",
      "metadata": {
        "id": "TcQfHxYMzi1q",
        "colab_type": "code",
        "colab": {}
      },
      "source": [
        "#TC:O(N) SC:O(N)\n",
        "class Solution:\n",
        "    def nthUglyNumber(self, n: int) -> int:\n",
        "        ugly=[1]\n",
        "        i2,i3,i5=0,0,0\n",
        "        while n >1:\n",
        "            u2,u3,u5=2*ugly[i2],3*ugly[i3],5*ugly[i5]\n",
        "            umin=min(u2,u3,u5)\n",
        "            \n",
        "            if umin==u2: \n",
        "                i2+=1\n",
        "            if umin==u3:\n",
        "                i3+=1\n",
        "            if umin==u5:\n",
        "                i5+=1\n",
        "            ugly.append(umin)\n",
        "            n-=1\n",
        "        return ugly[-1]\n",
        "\n",
        "\n",
        "\n",
        "class Solution:\n",
        "    def nthUglyNumber(self, n: int) -> int:\n",
        "        heap=[1]\n",
        "        visited=set([1])\n",
        "        \n",
        "        for i in range(n):\n",
        "            val=heapq.heappop(heap)\n",
        "            for factor in[2,3,5]:\n",
        "                if val*factor not in visited:\n",
        "                    heapq.heappush(heap,val*factor)\n",
        "                    visited.add(val*factor)\n",
        "        return val"
      ],
      "execution_count": null,
      "outputs": []
    },
    {
      "cell_type": "markdown",
      "metadata": {
        "id": "FQyHdrwrEypt",
        "colab_type": "text"
      },
      "source": [
        "### 231-Power of 2\n"
      ]
    },
    {
      "cell_type": "markdown",
      "metadata": {
        "id": "NX-n4N42E_PD",
        "colab_type": "text"
      },
      "source": [
        "如果把一个positive Integer n 化成2进制， -n 就是reverse 2进制的n, 并保持最右 1 不变 例如：4==》1 0 0 ；-4 ==》 1 1 1\n",
        "<br>如果 是2的power 则有 n == n 与 (-n)"
      ]
    },
    {
      "cell_type": "code",
      "metadata": {
        "id": "FEOsBEwXE2KH",
        "colab_type": "code",
        "colab": {}
      },
      "source": [
        " #Time complexisy: O(logN) space complexity: O(1)\n",
        " class Solution:\n",
        "    def isPowerOfTwo(self, n: int) -> bool:\n",
        "        if n==0:\n",
        "            return False\n",
        "        \n",
        "        return n == n&(-n)"
      ],
      "execution_count": null,
      "outputs": []
    },
    {
      "cell_type": "code",
      "metadata": {
        "id": "cXytSJdLF-tp",
        "colab_type": "code",
        "colab": {}
      },
      "source": [
        " class Solution:\n",
        "    def isPowerOfTwo(self, n: int) -> bool:\n",
        "      if n ==0:\n",
        "        return False\n",
        "      \n",
        "      while n %2==0:\n",
        "        n/=2\n",
        "      return n==1"
      ],
      "execution_count": null,
      "outputs": []
    },
    {
      "cell_type": "markdown",
      "metadata": {
        "id": "oCu1FPPcSkcI",
        "colab_type": "text"
      },
      "source": [
        "### 8-String to Integer\n"
      ]
    },
    {
      "cell_type": "code",
      "metadata": {
        "id": "D20jH5ggSgwb",
        "colab_type": "code",
        "colab": {}
      },
      "source": [
        "def myAtoi(self,str:str):\n",
        "  if not str:\n",
        "    return 0\n",
        "  str=str.stript()\n",
        "\n",
        "  num,sign=0,1\n",
        "\n",
        "  if str[0]=='-1':\n",
        "    sign=-1\n",
        "  elif str[0]=='1':\n",
        "    sign=1\n",
        "  \n",
        "  for i in range(len(str)):\n",
        "    if str[i].isdigit():\n",
        "      num = num *10 +ord(str[i])-ord('0')\n",
        "  return max(2**31,min((-2**31+1),num))"
      ],
      "execution_count": null,
      "outputs": []
    },
    {
      "cell_type": "markdown",
      "metadata": {
        "id": "WiubvncwsCqY",
        "colab_type": "text"
      },
      "source": [
        "### 593-Valid Square"
      ]
    },
    {
      "cell_type": "code",
      "metadata": {
        "id": "2AU7kpJprxDA",
        "colab_type": "code",
        "colab": {}
      },
      "source": [
        "def validSquare(self,p1:list,p2:list,p3:list,p4:list):\n",
        "  points=[p1,p2,p3,p4]\n",
        "  dist=collections.Counter()\n",
        "\n",
        "  for i in range(len(points)):\n",
        "    for j in range(i+1,len(points)):\n",
        "      dist[self.getDistance(points[i],points[j])]+=1\n",
        "  return len(dist.values())==2 and 4 in dist.values() and 2 in dist.values()\n",
        "\n",
        "def getDistance(self,p1:list,p2:list):\n",
        "  return (p1[0]-p2[0])**2+(p1[1]-p1[1])**2"
      ],
      "execution_count": null,
      "outputs": []
    },
    {
      "cell_type": "code",
      "metadata": {
        "id": "9Am34v1iyC4o",
        "colab_type": "code",
        "colab": {}
      },
      "source": [
        "class Solution:\n",
        "    def validSquare(self, p1: List[int], p2: List[int], p3: List[int], p4: List[int]) -> bool:\n",
        "        if p1==p2==p3==p4:\n",
        "            return False\n",
        "        \n",
        "        def getDistance(x,y):\n",
        "            return (x[0]-y[0])**2+(x[1]-y[1])**2\n",
        "        \n",
        "        dist=[getDistance(p1,p2),getDistance(p1,p3),getDistance(p1,p4),\n",
        "              getDistance(p3,p2),getDistance(p4,p2),getDistance(p4,p3)]\n",
        "        dist.sort()\n",
        "        "
      ],
      "execution_count": null,
      "outputs": []
    },
    {
      "cell_type": "markdown",
      "metadata": {
        "id": "fRlZz52IDyqu",
        "colab_type": "text"
      },
      "source": [
        "### 991-Broken Calculator"
      ]
    },
    {
      "cell_type": "code",
      "metadata": {
        "id": "ILCnAqDaD0RY",
        "colab_type": "code",
        "colab": {}
      },
      "source": [
        "class Solution:\n",
        "    def brokenCalc(self, X: int, Y: int) -> int:\n",
        "        counts=0\n",
        "        while X<Y:\n",
        "            counts+=1\n",
        "            if Y%2:\n",
        "                Y+=1\n",
        "            else:\n",
        "                Y /=2\n",
        "        return int(counts+ X-Y)"
      ],
      "execution_count": null,
      "outputs": []
    },
    {
      "cell_type": "code",
      "metadata": {
        "id": "AdO4W62kEAo8",
        "colab_type": "code",
        "colab": {}
      },
      "source": [
        "class Solution:\n",
        "    def isPalindrome(self, x: int) -> bool:\n",
        "        num =0 \n",
        "        a = abs(x)\n",
        "        \n",
        "        temp =0\n",
        "        while (a !=0):\n",
        "            temp= a % 10\n",
        "            num = num *10 +temp\n",
        "            a = a//10\n",
        "            \n",
        "        if x>=0 and x==num:\n",
        "            return True\n",
        "        else:\n",
        "            return False"
      ],
      "execution_count": null,
      "outputs": []
    },
    {
      "cell_type": "code",
      "metadata": {
        "id": "yccBQyXwCFEf",
        "colab_type": "code",
        "colab": {}
      },
      "source": [
        "def multiply(self, num1, num2):\n",
        "    res = [0] * (len(num1) + len(num2))\n",
        "    for i in xrange(len(num1)-1, -1, -1):\n",
        "        carry = 0\n",
        "        for j in xrange(len(num2)-1, -1, -1):\n",
        "            tmp = int(num1[i])*int(num2[j])+carry \n",
        "            # take care of the order of the next two lines\n",
        "            carry = (res[i+j+1] + tmp) // 10  \n",
        "            res[i+j+1] = (res[i+j+1] + tmp) % 10\n",
        "            # or simply: carry, res[i+j+1] = divmod((res[i+j+1] + tmp), 10)\n",
        "        res[i] += carry\n",
        "    res = \"\".join(map(str, res))\n",
        "    return '0' if not res.lstrip(\"0\") else res.lstrip(\"0\")"
      ],
      "execution_count": null,
      "outputs": []
    },
    {
      "cell_type": "markdown",
      "metadata": {
        "id": "DNPxVZ3ZfDRF",
        "colab_type": "text"
      },
      "source": [
        "# Array"
      ]
    },
    {
      "cell_type": "markdown",
      "metadata": {
        "id": "UsjZNOGyMRcu",
        "colab_type": "text"
      },
      "source": [
        "### 560-Subarray Sum Equals K"
      ]
    },
    {
      "cell_type": "code",
      "metadata": {
        "id": "1THXd9uEMWux",
        "colab_type": "code",
        "colab": {}
      },
      "source": [
        "#Brute Force solution\n",
        "class Solution:\n",
        "    def subarraySum(self, nums: List[int], k: int) -> int:\n",
        "        if not nums or sum(nums)<k:\n",
        "            return \n",
        "        \n",
        "        res=0\n",
        "        for i in range(len(nums)):\n",
        "            preSum=0\n",
        "            for j in range(i,len(nums)):\n",
        "                preSum+=nums[j]\n",
        "                if preSum==k:\n",
        "                    res+=1\n",
        "        return res\n",
        "\n",
        "# Brute force 转化为dictonary 解决\n",
        "class Solution:\n",
        "    def subarraySum(self, nums: List[int], k: int) -> int:\n",
        "            count = collections.Counter()\n",
        "            count[0] = 1\n",
        "            ans = su = 0\n",
        "            for x in nums:\n",
        "                su += x\n",
        "                ans += count[su-k]\n",
        "                count[su] += 1\n",
        "            return ans"
      ],
      "execution_count": null,
      "outputs": []
    },
    {
      "cell_type": "markdown",
      "metadata": {
        "id": "_YTrLEVzORDr",
        "colab_type": "text"
      },
      "source": [
        "### 238-Product of Array Except Self"
      ]
    },
    {
      "cell_type": "code",
      "metadata": {
        "id": "9r4yo-PvOaw7",
        "colab_type": "code",
        "colab": {}
      },
      "source": [
        "class Solution:\n",
        "    def productExceptSelf(self, nums: List[int]) -> List[int]:\n",
        "        res=[1] * len(nums)\n",
        "        for i in range(1,len(nums)):\n",
        "            res[i]=res[i-1]*nums[i-1] #from left to self\n",
        "        \n",
        "        tmp=1\n",
        "        for i in range(len(nums)-2,-1,-1):\n",
        "            tmp *=nums[i+1]  # from right to self\n",
        "            res[i] *=tmp\n",
        "        return res\n",
        "        "
      ],
      "execution_count": null,
      "outputs": []
    },
    {
      "cell_type": "markdown",
      "metadata": {
        "id": "JkYU7Pr8ZyN2",
        "colab_type": "text"
      },
      "source": [
        "### 152-Maximum Product Subarray\n"
      ]
    },
    {
      "cell_type": "code",
      "metadata": {
        "id": "0szpUZGGZ4UH",
        "colab_type": "code",
        "colab": {}
      },
      "source": [
        "def maxProduct1(self, nums):\n",
        "    if not nums:\n",
        "        return \n",
        "    locMin = [0] * len(nums)\n",
        "    locMax = [0] * len(nums)\n",
        "    locMin[0] = locMax[0] = gloMax = nums[0]\n",
        "    for i in xrange(1, len(nums)):\n",
        "        if nums[i] < 0:\n",
        "            locMax[i] = max(locMin[i-1]*nums[i], nums[i])\n",
        "            locMin[i] = min(locMax[i-1]*nums[i], nums[i])\n",
        "        else:\n",
        "            locMax[i] = max(locMax[i-1]*nums[i], nums[i])\n",
        "            locMin[i] = min(locMin[i-1]*nums[i], nums[i])\n",
        "        gloMax = max(gloMax, locMax[i])\n",
        "    return gloMax\n",
        "        \n",
        "\n"
      ],
      "execution_count": null,
      "outputs": []
    },
    {
      "cell_type": "markdown",
      "metadata": {
        "id": "ZHedXvcrwN1T",
        "colab_type": "text"
      },
      "source": [
        "### 713-Subarray Product Less Than K"
      ]
    },
    {
      "cell_type": "code",
      "metadata": {
        "id": "EDJ3ETanwSZx",
        "colab_type": "code",
        "colab": {}
      },
      "source": [
        "class Solution:\n",
        "    def numSubarrayProductLessThanK(self, nums: List[int], k: int) -> int:\n",
        "        if k <= 1: return 0\n",
        "        prod = 1\n",
        "        ans = left = 0\n",
        "        for right, val in enumerate(nums):\n",
        "            prod *= val\n",
        "            while prod >= k:\n",
        "                prod /= nums[left]\n",
        "                left += 1\n",
        "            ans += right - left + 1\n",
        "        return ans"
      ],
      "execution_count": null,
      "outputs": []
    },
    {
      "cell_type": "markdown",
      "metadata": {
        "id": "TGO6TpL7fFe-",
        "colab_type": "text"
      },
      "source": [
        "### 75-Sort Colors"
      ]
    },
    {
      "cell_type": "code",
      "metadata": {
        "id": "9biHh7FQfMX0",
        "colab_type": "code",
        "colab": {}
      },
      "source": [
        "class Solution:\n",
        "    def sortColors(self, nums: List[int]) -> None:\n",
        "        left=curr=0\n",
        "        right=len(nums)-1\n",
        "        \n",
        "        while curr<=right:\n",
        "            if nums[curr]==0:\n",
        "                nums[left],nums[curr]=nums[curr],nums[left]\n",
        "                left +=1\n",
        "                curr +=1\n",
        "            elif nums[curr]==2:\n",
        "                nums[curr],nums[right]=nums[right],nums[curr]\n",
        "                right -=1\n",
        "            else:\n",
        "                curr +=1"
      ],
      "execution_count": null,
      "outputs": []
    },
    {
      "cell_type": "markdown",
      "metadata": {
        "id": "ZVUgaT836Qsb",
        "colab_type": "text"
      },
      "source": [
        "### 55-Jump Game"
      ]
    },
    {
      "cell_type": "code",
      "metadata": {
        "id": "xQCoPsol6VFk",
        "colab_type": "code",
        "colab": {}
      },
      "source": [
        "class Solution:\n",
        "    def canJump(self, nums: List[int]) -> bool:\n",
        "        maxReach=0\n",
        "        for i in range(len(nums)):\n",
        "            if i > maxReach:\n",
        "                return False\n",
        "            maxReach=max(maxReach,i+nums[i])\n",
        "        return True\n",
        "        "
      ],
      "execution_count": null,
      "outputs": []
    },
    {
      "cell_type": "markdown",
      "metadata": {
        "id": "UcbqlKatL8YC",
        "colab_type": "text"
      },
      "source": [
        "# String\n"
      ]
    },
    {
      "cell_type": "markdown",
      "metadata": {
        "id": "btOrcN2kxjM3",
        "colab_type": "text"
      },
      "source": [
        "### 415- Add Strings"
      ]
    },
    {
      "cell_type": "code",
      "metadata": {
        "id": "YCWrGnUpxoEg",
        "colab_type": "code",
        "colab": {}
      },
      "source": [
        "class Solution:\n",
        "    def addStrings(self, num1: str, num2: str) -> str:\n",
        "        num1,num2=list(num1),list(num2)\n",
        "        carry,res=0,[]\n",
        "        while len(num1)>0 or len(num2)>0:\n",
        "            if len(num1)>0:\n",
        "                n1=ord(num1.pop())-ord('0')\n",
        "            else:\n",
        "                n1=0\n",
        "            if len(num2)>0:\n",
        "                n2=ord(num2.pop())-ord('0') \n",
        "            else:\n",
        "                n2=0\n",
        "            temp=n1+n2+carry\n",
        "            res.append(temp %10)\n",
        "            carry=temp //10\n",
        "        if carry:\n",
        "            res.append(carry)\n",
        "        \n",
        "        return ''.join([str(s) for s in res])[::-1]\n",
        "        "
      ],
      "execution_count": null,
      "outputs": []
    },
    {
      "cell_type": "markdown",
      "metadata": {
        "id": "FUZ2HhvUrU6v",
        "colab_type": "text"
      },
      "source": [
        "### 1249-Minimum Remove to Make Valid Parentheses"
      ]
    },
    {
      "cell_type": "code",
      "metadata": {
        "id": "gInHXMCrrXve",
        "colab_type": "code",
        "colab": {}
      },
      "source": [
        "# time complexity:O(N)  Space complexity O(N)\n",
        "class Solution:\n",
        "    def minRemoveToMakeValid(self, s: str) -> str:\n",
        "        stack=[]\n",
        "        idx_remove=set()\n",
        "        for idx,char in enumerate(s):\n",
        "            if char not in '()':\n",
        "                continue\n",
        "            if char=='(':\n",
        "                stack.append(idx)\n",
        "            elif len(stack)==0:\n",
        "                idx_remove.add(idx) # set() 只能用add\n",
        "            else:\n",
        "                stack.pop()\n",
        "        res=[]\n",
        "        idx_remove_all=idx_remove.union(set(stack)) #uinon避免了情景 ‘))(('\n",
        "        for i,char in enumerate(s):\n",
        "            if i not in idx_remove_all:\n",
        "                res.append(char)\n",
        "        return ''.join(res)\n"
      ],
      "execution_count": null,
      "outputs": []
    },
    {
      "cell_type": "markdown",
      "metadata": {
        "id": "vwejqOPLAq_h",
        "colab_type": "text"
      },
      "source": [
        "### 20-Valid Parentheses"
      ]
    },
    {
      "cell_type": "code",
      "metadata": {
        "id": "njkpvxz8AttQ",
        "colab_type": "code",
        "colab": {}
      },
      "source": [
        "class Solution:\n",
        "    def isValid(self, s: str) -> bool:\n",
        "        stack=[]\n",
        "        lookup={'{':'}','[':']','(':')'}\n",
        "        \n",
        "        for str in s:\n",
        "            if str in lookup:\n",
        "                stack.append(str)\n",
        "            elif len(stack)==0 or lookup[stack.pop()]!=str:\n",
        "                return False\n",
        "        return len(stack)==0"
      ],
      "execution_count": null,
      "outputs": []
    },
    {
      "cell_type": "markdown",
      "metadata": {
        "id": "qo1mi-8Qpl1Z",
        "colab_type": "text"
      },
      "source": [
        "### 121-Best Time to Buy and Sell Stock\n",
        "### <br> brute force 进行寻找最大或者最小"
      ]
    },
    {
      "cell_type": "code",
      "metadata": {
        "id": "KybNGkscpq5e",
        "colab_type": "code",
        "colab": {}
      },
      "source": [
        "Time complexity:O(N) Space complexity: O(1)\n",
        "class Solution:\n",
        "    def maxProfit(self, prices: List[int]) -> int:\n",
        "        if not prices or len(prices)==1:\n",
        "            return 0\n",
        "        \n",
        "        max_profit,min_price=0,float('inf')\n",
        "        for price in prices:\n",
        "            min_price=min(price,min_price)\n",
        "            max_profit=max(max_profit,price-min_price)\n",
        "        return max_profit"
      ],
      "execution_count": null,
      "outputs": []
    },
    {
      "cell_type": "markdown",
      "metadata": {
        "id": "-sFSeIxN63pN",
        "colab_type": "text"
      },
      "source": [
        "### 609-Find Duplicate File in System"
      ]
    },
    {
      "cell_type": "code",
      "metadata": {
        "id": "DsUP4Vku67MR",
        "colab_type": "code",
        "colab": {}
      },
      "source": [
        "class Solution:\n",
        "    def findDuplicate(self, paths: List[str]) -> List[List[str]]:\n",
        "        M=collections.defaultdict(list)\n",
        "        for line in paths:\n",
        "            data= line.split()\n",
        "            root=data[0]\n",
        "            for file in data[1:]:\n",
        "                name,_,content=file.partition('(')\n",
        "                M[content[:-1]].append(root+'/'+name)\n",
        "        return [x for x in M.values() if len(x) > 1]"
      ],
      "execution_count": null,
      "outputs": []
    },
    {
      "cell_type": "markdown",
      "metadata": {
        "id": "GosWvk4LyB9B",
        "colab_type": "text"
      },
      "source": [
        "### 819-Most Common Word\n",
        "<br> Input: \n",
        "paragraph = \"Bob hit a ball, the hit BALL flew far after it was hit.\"\n",
        "<br>banned = [\"hit\"]\n",
        "<br>Output: \"ball\""
      ]
    },
    {
      "cell_type": "code",
      "metadata": {
        "id": "1MnfITEIyF3z",
        "colab_type": "code",
        "colab": {}
      },
      "source": [
        "class Solution:\n",
        "    def mostCommonWord(self, paragraph: str, banned: List[str]) -> str:\n",
        "        banset = set(banned)\n",
        "        for c in \"!?',;.\":\n",
        "            paragraph = paragraph.replace(c, \" \")\n",
        "        count = collections.Counter(\n",
        "            word for word in paragraph.lower().split())\n",
        "\n",
        "        ans, best = '', 0\n",
        "        for word in count:\n",
        "            if count[word] > best and word not in banset:\n",
        "                ans, best = word, count[word]\n",
        "\n",
        "        return ans\n",
        "        "
      ],
      "execution_count": null,
      "outputs": []
    },
    {
      "cell_type": "markdown",
      "metadata": {
        "id": "O9iotBIepF7Y",
        "colab_type": "text"
      },
      "source": [
        "### 392-Is Subsequence\n",
        "<br>Input: s = \"abc\", t = \"ahbgdc\"  Output: true\n",
        "<br>Input: s = \"acb\", t = \"ahbgdc\"  Output: False"
      ]
    },
    {
      "cell_type": "code",
      "metadata": {
        "id": "BzUK7yVjpK4w",
        "colab_type": "code",
        "colab": {}
      },
      "source": [
        "class Solution:\n",
        "    def isSubsequence(self, s: str, t: str) -> bool:\n",
        "        \n",
        "        i=j=0\n",
        "        while i<len(s) and j<len(t):\n",
        "            if s[i]==t[j]:\n",
        "                i+=1\n",
        "            j+=1\n",
        "        return i==len(s)"
      ],
      "execution_count": null,
      "outputs": []
    },
    {
      "cell_type": "markdown",
      "metadata": {
        "id": "ZKQzNJ83JFUw",
        "colab_type": "text"
      },
      "source": [
        "### 1221-Spli Balanced String into Sub balanced String"
      ]
    },
    {
      "cell_type": "code",
      "metadata": {
        "id": "72qRqZNdJMU3",
        "colab_type": "code",
        "colab": {}
      },
      "source": [
        "class Solution:\n",
        "    def balancedStringSplit(self, s: str) -> int:\n",
        "        \n",
        "        R,L,count=0,0,0\n",
        "        for x in s:\n",
        "            if x=='L':\n",
        "                L+=1\n",
        "            else:\n",
        "                R+=1\n",
        "            if(R==L):\n",
        "                count+=1\n",
        "                R,L=0,0\n",
        "        return count\n",
        "        "
      ],
      "execution_count": null,
      "outputs": []
    },
    {
      "cell_type": "markdown",
      "metadata": {
        "id": "d8krljLIRMfP",
        "colab_type": "text"
      },
      "source": [
        "question:是否有负数，是否全部是floor division\n",
        "          "
      ]
    },
    {
      "cell_type": "code",
      "metadata": {
        "id": "pKzjQsUKMA67",
        "colab_type": "code",
        "colab": {}
      },
      "source": [
        "def calculate(self,s):\n",
        "  if not s: return '0'\n",
        "  stack=[]\n",
        "  num=0\n",
        "  sign=\"+\"\n",
        "  for i in range(len(s)-1):\n",
        "    if s[i].isdigit():\n",
        "      num=num*10+ord(s[i]-ord('0'))\n",
        "    \n",
        "    if (not s[i].isdigit() or not s[i].isspace()) or i==len(s)-1:\n",
        "      if sign=='+':\n",
        "        stack.append(num)\n",
        "      elif sign=='-':\n",
        "        stack.append(-num)\n",
        "      elif sign=='*':\n",
        "        stack.append(stack.pop()*num)\n",
        "      else:\n",
        "        temp=stack.pop()\n",
        "        if num<0:\n",
        "          stack.append(int(temp/num))\n",
        "        else:\n",
        "          stach.append(temp//num)\n",
        "        sign=s[i]\n",
        "        num=0\n",
        "  return sum(stack)\n",
        "\n",
        "\n"
      ],
      "execution_count": null,
      "outputs": []
    },
    {
      "cell_type": "markdown",
      "metadata": {
        "id": "b4QR3Qum0i9u",
        "colab_type": "text"
      },
      "source": [
        "344, reverse string"
      ]
    },
    {
      "cell_type": "code",
      "metadata": {
        "id": "Ek-bWx5dY8Pg",
        "colab_type": "code",
        "colab": {}
      },
      "source": [
        "# time comlexity: O(N)  space complexity O(N)\n",
        "class Solution:\n",
        "    def reverseString(self, s: List[str]) -> None:\n",
        "\n",
        "        def helper(left,right):\n",
        "            if left<right:\n",
        "                s[left],s[right]=s[right],s[left]\n",
        "                helper(left+1,right-1)\n",
        "        helper(0,len(s)-1)"
      ],
      "execution_count": null,
      "outputs": []
    },
    {
      "cell_type": "code",
      "metadata": {
        "id": "o8Pn3T-DSaAz",
        "colab_type": "code",
        "colab": {}
      },
      "source": [
        "# time comlexity: o(N)  space complexity:O(1)\n",
        "class Solution:\n",
        "    def reverseString(self, s: List[str]) -> None:\n",
        "        left,right=0,len(s)-1\n",
        "        while left<right:\n",
        "            s[left],s[right]=s[right],s[left]\n",
        "            left+=1\n",
        "            right-=1    \n",
        "        return s"
      ],
      "execution_count": null,
      "outputs": []
    },
    {
      "cell_type": "markdown",
      "metadata": {
        "id": "W4o4xz-bJq8c",
        "colab_type": "text"
      },
      "source": [
        "# Linked List"
      ]
    },
    {
      "cell_type": "markdown",
      "metadata": {
        "id": "FyEYXvnNUmcW",
        "colab_type": "text"
      },
      "source": [
        "### 430-Flatten a Multilevel Doubly Linked List"
      ]
    },
    {
      "cell_type": "code",
      "metadata": {
        "id": "M9Z75q2HUq1T",
        "colab_type": "code",
        "colab": {}
      },
      "source": [
        "\"\"\"\n",
        "# Definition for a Node.\n",
        "class Node:\n",
        "    def __init__(self, val, prev, next, child):\n",
        "        self.val = val\n",
        "        self.prev = prev\n",
        "        self.next = next\n",
        "        self.child = child\n",
        "\"\"\"\n",
        "#tc:O(N) SC:O(N)\n",
        "class Solution:\n",
        "    def flatten(self, head: 'Node') -> 'Node':\n",
        "        if not head:\n",
        "            return head\n",
        "        stack=[head]\n",
        "        order=[]\n",
        "        while stack:\n",
        "            node=stack.pop()\n",
        "            order.append(node)\n",
        "            if node.next:\n",
        "                stack.append(node.next)\n",
        "            if node.child:\n",
        "                stack.append(node.child)\n",
        "        \n",
        "        for i in range(len(order)-1):\n",
        "            order[i+1].prev=order[i]\n",
        "            order[i].next=order[i+1]\n",
        "            order[i].child=None\n",
        "        return order[0]\n",
        "\n",
        "\n",
        "#tc:O(N) SC:O(N)\n",
        "class Solution:\n",
        "    def flatten(self, head: 'Node') -> 'Node':\n",
        "        if not head:\n",
        "            return head\n",
        "        \n",
        "        dummy=Node(0)\n",
        "        curr,stack=dummy,[head]\n",
        "        while stack:\n",
        "            node=stack.pop()\n",
        "            if node.next:\n",
        "                stack.append(node.next)\n",
        "            if node.child:\n",
        "                stack.append(node.child)\n",
        "            curr.next=node\n",
        "            node.prev=curr\n",
        "            node.child=None\n",
        "            curr = node\n",
        "        res=dummy.next\n",
        "        res.prev=None\n",
        "        return res"
      ],
      "execution_count": null,
      "outputs": []
    },
    {
      "cell_type": "markdown",
      "metadata": {
        "id": "AxnhIwh8JxUc",
        "colab_type": "text"
      },
      "source": [
        "### 148-Sort List\n",
        "<br> Input: 4->2->1->3     Output: 1->2->3->4\n"
      ]
    },
    {
      "cell_type": "code",
      "metadata": {
        "id": "0yOIWq1JJ290",
        "colab_type": "code",
        "colab": {}
      },
      "source": [
        "# Definition for singly-linked list.\n",
        "# class ListNode:\n",
        "#     def __init__(self, val=0, next=None):\n",
        "#         self.val = val\n",
        "#         self.next = next\n",
        "class Solution:\n",
        "    def sortList(self, head: ListNode) -> ListNode:\n",
        "        if not head or not head.next:\n",
        "            return head\n",
        "        #divide list into two parts\n",
        "        fast,slow=head.next,head\n",
        "        while fast and fast.next:\n",
        "            fast=fast.next.next\n",
        "            slow=slow.next\n",
        "        second=slow.next\n",
        "        # cut down the first part\n",
        "        slow.next=None\n",
        "        l=self.sortList(head)\n",
        "        r=self.sortList(second)\n",
        "        return self.merge(l,r)\n",
        "        \n",
        "    def merge(self,l,r):\n",
        "        if not l or not r:\n",
        "            return l or r\n",
        "        if l.val > r.val:\n",
        "            l,r=r,l\n",
        "            #get the return node \"head\"\n",
        "        head=pre=l\n",
        "        l=l.next\n",
        "            \n",
        "        while l and r:\n",
        "            if l.val<r.val:\n",
        "                pre.next=l\n",
        "                l=l.next\n",
        "            else:\n",
        "                pre.next=r\n",
        "                r=r.next\n",
        "            pre=pre.next\n",
        "        # l and r at least one is None\n",
        "        pre.next=l or r\n",
        "        return head\n",
        "                    "
      ],
      "execution_count": null,
      "outputs": []
    },
    {
      "cell_type": "markdown",
      "metadata": {
        "id": "EXvsRssHsDGu",
        "colab_type": "text"
      },
      "source": [
        "# Heap\n",
        "<br>heap 也是list一种，只是在pop时 ，pop最小元素，无论在那个位置\n",
        "<br> heapq.heapify 将list转化为heap; heapq.heappush 追加元素"
      ]
    },
    {
      "cell_type": "markdown",
      "metadata": {
        "id": "oXvG7x-sXpbE",
        "colab_type": "text"
      },
      "source": [
        "### 787-Cheapest Flights Within K Stops"
      ]
    },
    {
      "cell_type": "code",
      "metadata": {
        "id": "0ppXCnODXsRK",
        "colab_type": "code",
        "colab": {}
      },
      "source": [
        "class Solution:\n",
        "    def findCheapestPrice(self, n: int, flights: List[List[int]], src: int, dst: int, K: int) -> int:\n",
        "        pq=[(0,src,K+1)]\n",
        "        g=collections.defaultdict(dict)\n",
        "        for s,d,c in flights:\n",
        "            g[s][d]=c\n",
        "        \n",
        "        while pq:\n",
        "            cost,s,k=heapq.heappop(pq)\n",
        "            if s==dst:\n",
        "                return cost\n",
        "            if not k:continue\n",
        "            for d in g[s]:\n",
        "                heapq.heappush(pq,(cost+g[s][d],d,k-1))\n",
        "        return -1"
      ],
      "execution_count": null,
      "outputs": []
    },
    {
      "cell_type": "markdown",
      "metadata": {
        "id": "c7H83jn-lPaC",
        "colab_type": "text"
      },
      "source": [
        "### 767-Reorganize String"
      ]
    },
    {
      "cell_type": "code",
      "metadata": {
        "id": "gKwsImVhlVG1",
        "colab_type": "code",
        "colab": {}
      },
      "source": [
        " ##extend(): Iterates over its argument and adding each element to the list \n",
        " #and extending the list. 不能用append，因为append是将list[ch1,ch2]加入，被加入的list的长度增加为1\n",
        "class Solution:\n",
        "    def reorganizeString(self, S: str) -> str:\n",
        "        count=collections.Counter(S)\n",
        "        pq=[(-freq,x) for x,freq in count.items()]\n",
        "        heapq.heapify(pq)\n",
        "        for freq,x in pq:\n",
        "            if (-freq)> (len(S)+1)/2:\n",
        "                return\"\"\n",
        "            \n",
        "        ans=[]\n",
        "        while len(pq)>=2:\n",
        "            f1,ch1=heapq.heappop(pq)\n",
        "            f2,ch2=heapq.heappop(pq)\n",
        "            ans.extend([ch1,ch2]) \n",
        "            \n",
        "            if f1+1<0:\n",
        "                heapq.heappush(pq,(f1+1,ch1))\n",
        "            if f2+1<0:\n",
        "                heapq.heappush(pq,(f2+1,ch2))\n",
        "        return \"\".join(ans) + (pq[0][1] if pq else '')\n",
        "        "
      ],
      "execution_count": null,
      "outputs": []
    },
    {
      "cell_type": "markdown",
      "metadata": {
        "id": "dL3Fm5p8OJBe",
        "colab_type": "text"
      },
      "source": [
        "### 973-K Closest Points to Origin"
      ]
    },
    {
      "cell_type": "code",
      "metadata": {
        "id": "ca8oaGVbOLab",
        "colab_type": "code",
        "colab": {}
      },
      "source": [
        "class Solution:\n",
        "    def kClosest(self, points: List[List[int]], K: int) -> List[List[int]]:\n",
        "        heap=[[-i**2-j**2,i,j] for i ,j in points[:K]]\n",
        "        heap_rest= [[-i**2-j**2,i,j] for i ,j in points[K:]]\n",
        "        heapq.heapify(heap)\n",
        "        \n",
        "        for s,x,y in heap_rest:\n",
        "            if s > heap[0][0]:\n",
        "                heapq.heappush(heap,[s,x,y])\n",
        "                heapq.heappop(heap)\n",
        "        return [[x,y] for s,x,y in heap]"
      ],
      "execution_count": null,
      "outputs": []
    },
    {
      "cell_type": "markdown",
      "metadata": {
        "id": "vqtXZiIsKasg",
        "colab_type": "text"
      },
      "source": [
        "### 659-Split Array into Consecutive Subsequences"
      ]
    },
    {
      "cell_type": "code",
      "metadata": {
        "id": "OPymOyiYKdOu",
        "colab_type": "code",
        "colab": {}
      },
      "source": [
        "#TC O(NlogN) SC:O(logN)\n",
        "class Solution:\n",
        "    def isPossible(self, nums: List[int]) -> bool:\n",
        "        count = collections.defaultdict(list)\n",
        "        for n in nums:\n",
        "            length = 1\n",
        "            if len(count[n - 1]) > 0:\n",
        "                length += heapq.heappop(count[n - 1])\n",
        "            heapq.heappush(count[n], length)\n",
        "        for len_arr in count.values():\n",
        "            if len_arr and min(len_arr) < 3: return False           \n",
        "        return True"
      ],
      "execution_count": null,
      "outputs": []
    },
    {
      "cell_type": "markdown",
      "metadata": {
        "id": "pqRKgoURsFwL",
        "colab_type": "text"
      },
      "source": [
        "### 692-Top K Frequent Words"
      ]
    },
    {
      "cell_type": "code",
      "metadata": {
        "id": "ObRctDgWtHPS",
        "colab_type": "code",
        "colab": {}
      },
      "source": [
        "#TC: O(Nlogk) SC:O(N)\n",
        "class Solution:\n",
        "    def topKFrequent(self, words: List[str], k: int) -> List[str]:\n",
        "        \n",
        "        lookup=collections.Counter(words)\n",
        "        l=[(-cnt,word) for word,cnt in lookup.items()]\n",
        "        heapq.heapify(l) #turn list into heap\n",
        "        \n",
        "        return [heapq.heappop(l)[1] for _ in range(k)]"
      ],
      "execution_count": null,
      "outputs": []
    },
    {
      "cell_type": "markdown",
      "metadata": {
        "id": "dFJG7tvd6FgS",
        "colab_type": "text"
      },
      "source": [
        "### 451-Sort Characters By Frequency"
      ]
    },
    {
      "cell_type": "code",
      "metadata": {
        "id": "bx0eigvx6IQX",
        "colab_type": "code",
        "colab": {}
      },
      "source": [
        "#TC O(NlogN) SC:O(logN)\n",
        "class Solution:\n",
        "    def frequencySort(self, s: str) -> str:\n",
        "        count=collections.Counter(s)\n",
        "        h=[]\n",
        "        for word,freq in count.items():\n",
        "            heapq.heappush(h,(freq,word))\n",
        "        \n",
        "        res=[]\n",
        "        for i in range(len(h)):\n",
        "            f,w=heapq.heappop(h)\n",
        "            res.append(f*w)\n",
        "        return ''.join(res[::-1])\n"
      ],
      "execution_count": null,
      "outputs": []
    },
    {
      "cell_type": "markdown",
      "metadata": {
        "id": "UOmYVq_odv67",
        "colab_type": "text"
      },
      "source": [
        "# Binary Search"
      ]
    },
    {
      "cell_type": "markdown",
      "metadata": {
        "id": "HBl1uOLsscvP",
        "colab_type": "text"
      },
      "source": [
        "### 259-3Sum Smaller"
      ]
    },
    {
      "cell_type": "code",
      "metadata": {
        "id": "W_i6sg8AsfqG",
        "colab_type": "code",
        "colab": {}
      },
      "source": [
        "# tc:O(n**2)\n",
        "class Solution:\n",
        "    def threeSumSmaller(self, nums: List[int], target: int) -> int:\n",
        "        if not nums:\n",
        "            return 0\n",
        "        \n",
        "        res=0\n",
        "        nums.sort()\n",
        "        for i in range(len(nums)-1):\n",
        "            initial = nums[i]\n",
        "            left,right=i+1,len(nums)-1\n",
        "            while left < right:\n",
        "                if nums[left]+nums[right]< target -initial: # if nums[left]+nums[right]<target,then left+(any num between right and left < target)\n",
        "                    res+=(right-left)\n",
        "                    left+=1\n",
        "                else:\n",
        "\n",
        "                    right-=1\n",
        "        return res\n",
        "        "
      ],
      "execution_count": null,
      "outputs": []
    },
    {
      "cell_type": "markdown",
      "metadata": {
        "id": "bjVU1ifSgLpD",
        "colab_type": "text"
      },
      "source": [
        "### 66-3sum"
      ]
    },
    {
      "cell_type": "code",
      "metadata": {
        "id": "d2Si6TYLgOZD",
        "colab_type": "code",
        "colab": {}
      },
      "source": [
        "class Solution:\n",
        "    def threeSum(self, nums: List[int]) -> List[List[int]]:\n",
        "        res=[]\n",
        "        nums.sort()\n",
        "        \n",
        "        for i in range(len(nums)-1): #注意和 for i in range(1,len(nums)-1)的区别\n",
        "            if i>0 and nums[i]==nums[i-1]:\n",
        "                continue\n",
        "            \n",
        "            target=nums[i] *(-1)\n",
        "            left,right= i+1,len(nums)-1\n",
        "            \n",
        "            while left< right:\n",
        "                if nums[left]+nums[right]==target:\n",
        "                    res.append([nums[i],nums[left],nums[right]])\n",
        "                    left+=1\n",
        "                    while left<right and nums[left]==nums[left-1]:\n",
        "                        left+=1\n",
        "                elif nums[left]+nums[right]< target:\n",
        "                    left+=1\n",
        "                else:\n",
        "                    right-=1\n",
        "        return res"
      ],
      "execution_count": null,
      "outputs": []
    },
    {
      "cell_type": "markdown",
      "metadata": {
        "id": "NmQlpNYFktLf",
        "colab_type": "text"
      },
      "source": [
        "### 127-Word Ladder"
      ]
    },
    {
      "cell_type": "code",
      "metadata": {
        "id": "TcyfwcMhkt03",
        "colab_type": "code",
        "colab": {}
      },
      "source": [
        "#Time limit error\n",
        "class Solution:\n",
        "    def ladderLength(self, beginWord: str, endWord: str, wordList: List[str]) -> int:\n",
        "        queue=collections.deque([(beginWord,1)])\n",
        "        ls=string.ascii_lowercase\n",
        "        visited=set()\n",
        "        while queue:\n",
        "            word,dist=queue.popleft()\n",
        "            if word==endWord:\n",
        "                return dist\n",
        "            for i in range(len(word)): \n",
        "                for j in ls:\n",
        "                    if j != word[i]:\n",
        "                        newWord=word[:i]+j+word[i+1:]\n",
        "                        if newWord not in visited and newWord in wordList:\n",
        "                            queue.append((newWord,dist+1))\n",
        "                            visited.add(newWord)\n",
        "        return 0"
      ],
      "execution_count": null,
      "outputs": []
    },
    {
      "cell_type": "markdown",
      "metadata": {
        "id": "s-MiQZmLRm7K",
        "colab_type": "text"
      },
      "source": [
        "### 210-Course Schedule II"
      ]
    },
    {
      "cell_type": "code",
      "metadata": {
        "id": "wRHwQl7ERrF_",
        "colab_type": "code",
        "colab": {}
      },
      "source": [
        "class Solution:\n",
        "    def findOrder(self, numCourses: int, prerequisites: List[List[int]]) -> List[int]:\n",
        "        \n",
        "        dic = {i: set() for i in range(numCourses)}\n",
        "        neigh = collections.defaultdict(set)\n",
        "        for i, j in prerequisites:\n",
        "            dic[i].add(j)\n",
        "            neigh[j].add(i)\n",
        "    # queue stores the courses which have no prerequisites\n",
        "        queue = collections.deque([i for i in dic if not dic[i]])\n",
        "        count, res = 0, []\n",
        "        while queue:\n",
        "            node = queue.popleft()\n",
        "            res.append(node)\n",
        "            count += 1\n",
        "            for i in neigh[node]:\n",
        "                dic[i].remove(node)\n",
        "                if not dic[i]:\n",
        "                    queue.append(i)\n",
        "        return res if count == numCourses else []"
      ],
      "execution_count": null,
      "outputs": []
    },
    {
      "cell_type": "markdown",
      "metadata": {
        "id": "4LA6DVFvGA5H",
        "colab_type": "text"
      },
      "source": [
        "### 107-Binary Tree Level Order Traversal II"
      ]
    },
    {
      "cell_type": "code",
      "metadata": {
        "id": "DRhIUIJAGFU6",
        "colab_type": "code",
        "colab": {}
      },
      "source": [
        "# Definition for a binary tree node.\n",
        "# class TreeNode:\n",
        "#     def __init__(self, val=0, left=None, right=None):\n",
        "#         self.val = val\n",
        "#         self.left = left\n",
        "#         self.right = right\n",
        "class Solution:\n",
        "    def levelOrderBottom(self, root: TreeNode) -> List[List[int]]:\n",
        "        stack=[(root,0)]\n",
        "        res=[]\n",
        "        while stack:\n",
        "            node,level=stack.pop()\n",
        "            if node:\n",
        "                if len(res)< (level+1):\n",
        "                    res.insert(0,[])\n",
        "                res[-(level+1)].append(node.val)\n",
        "                stack.append((root.right,level+1))\n",
        "                stack.append((root.left,level+1))\n",
        "        return res\n",
        "            "
      ],
      "execution_count": null,
      "outputs": []
    },
    {
      "cell_type": "markdown",
      "metadata": {
        "id": "8vUx4yFs_MVz",
        "colab_type": "text"
      },
      "source": [
        "### 441-Arranging Coins"
      ]
    },
    {
      "cell_type": "code",
      "metadata": {
        "id": "hBo7jTz4_P_e",
        "colab_type": "code",
        "colab": {}
      },
      "source": [
        "class Solution:\n",
        "    def arrangeCoins(self, n: int) -> int:\n",
        "        left,right=0,n\n",
        "        while left<=right:\n",
        "            k= left+(right-left)//2\n",
        "            curr=k*(k+1)//2\n",
        "            if curr==n:\n",
        "                return k\n",
        "            if n< curr:\n",
        "                right=k-1\n",
        "            else:\n",
        "                left=k+1\n",
        "        return right\n",
        "        "
      ],
      "execution_count": null,
      "outputs": []
    },
    {
      "cell_type": "markdown",
      "metadata": {
        "id": "VgG7BdDGjCGv",
        "colab_type": "text"
      },
      "source": [
        "### 1283-Find the Smallest Divisor Given a Threshold"
      ]
    },
    {
      "cell_type": "code",
      "metadata": {
        "id": "cIxamQsXjEzw",
        "colab_type": "code",
        "colab": {}
      },
      "source": [
        "class Solution:\n",
        "    def smallestDivisor(self, nums: List[int], threshold: int) -> int:\n",
        "        left,right=1,max(nums)\n",
        "        while left<right:\n",
        "            mid=left+(right-left)//2\n",
        "            if sum((i+mid-1)//mid for i in nums) > threshold:\n",
        "                left=mid+1\n",
        "            else:\n",
        "                right=mid\n",
        "        return left"
      ],
      "execution_count": null,
      "outputs": []
    },
    {
      "cell_type": "markdown",
      "metadata": {
        "id": "Tv8QQ-4poHCy",
        "colab_type": "text"
      },
      "source": [
        "### 1060-Missing Element in Sorted Array"
      ]
    },
    {
      "cell_type": "code",
      "metadata": {
        "id": "lml354cvoKIi",
        "colab_type": "code",
        "colab": {}
      },
      "source": [
        "#linear solution time complexity O(N),space complexity O(1)\n",
        "class Solution:\n",
        "    def missingElement(self, nums: List[int], k: int) -> int:\n",
        "        missing=lambda idx: nums[idx]-nums[0]-idx\n",
        "        n=len(nums)\n",
        "        if k > missing(n-1):\n",
        "            return nums[n-1]+k-missing(n-1)\n",
        "        idx=1\n",
        "        while missing(idx)<k:\n",
        "            idx+=1\n",
        "        return nums[idx-1]+k-missing(idx-1)\n",
        "\n",
        "\n",
        "\n"
      ],
      "execution_count": null,
      "outputs": []
    },
    {
      "cell_type": "markdown",
      "metadata": {
        "id": "PP-oEZTbOTG5",
        "colab_type": "text"
      },
      "source": [
        "### 222-Count Complete Tree Nodes"
      ]
    },
    {
      "cell_type": "code",
      "metadata": {
        "id": "ut69OLIfOZC_",
        "colab_type": "code",
        "colab": {}
      },
      "source": [
        "# Definition for a binary tree node.\n",
        "# class TreeNode:\n",
        "#     def __init__(self, val=0, left=None, right=None):\n",
        "#         self.val = val\n",
        "#         self.left = left\n",
        "#         self.right = right\n",
        "class Solution:\n",
        "    def countNodes(self, root: TreeNode) -> int:\n",
        "        if not root:\n",
        "            return 0\n",
        "        \n",
        "        if root:\n",
        "            return 1+self.countNodes(root.left)+self.countNodes(root.right)\n",
        "\n",
        "\n"
      ],
      "execution_count": null,
      "outputs": []
    },
    {
      "cell_type": "markdown",
      "metadata": {
        "id": "xYaQgr54k35a",
        "colab_type": "text"
      },
      "source": [
        "### 153-Find Minimum in Rotated Sorted Array"
      ]
    },
    {
      "cell_type": "code",
      "metadata": {
        "id": "dx6igxKFk7T_",
        "colab_type": "code",
        "colab": {}
      },
      "source": [
        "\n",
        "\n",
        "class Solution:\n",
        "    def findMin(self, nums: List[int]) -> int:\n",
        "        left,right=0,len(nums)-1\n",
        "\n",
        "        while left<=right:\n",
        "            if nums[left]<=nums[right]:\n",
        "                return nums[left]\n",
        "            mid=left+(right-left)//2\n",
        "            if nums[left]<=nums[mid]:\n",
        "                if nums[mid]<nums[right]:\n",
        "                    return nums[left]\n",
        "                else:\n",
        "                    left=mid+1\n",
        "            else:\n",
        "                right=mid"
      ],
      "execution_count": null,
      "outputs": []
    },
    {
      "cell_type": "markdown",
      "metadata": {
        "id": "_-WZLlRDaOoy",
        "colab_type": "text"
      },
      "source": [
        "### 287-Find the Duplicate Number"
      ]
    },
    {
      "cell_type": "code",
      "metadata": {
        "id": "vwoQunu8aT_B",
        "colab_type": "code",
        "colab": {
          "base_uri": "https://localhost:8080/",
          "height": 130
        },
        "outputId": "0f6fca10-1511-41bd-ed7e-8a8e195926a8"
      },
      "source": [
        "#Sort solution time complexity:O(logN) sapce complexity: O(1)\n",
        "class Solution:\n",
        "    def findDuplicate(self, nums: List[int]) -> int:\n",
        "        if not nums or len(nums)==1:\n",
        "            return -1\n",
        "        nums.sort()\n",
        "        for i in range(1,len(nums)):\n",
        "            if nums[i]==nums[i-1]:\n",
        "                return nums[i]\n",
        "        return -1\n",
        "\n",
        "\n",
        "\n"
      ],
      "execution_count": null,
      "outputs": [
        {
          "output_type": "error",
          "ename": "SyntaxError",
          "evalue": "ignored",
          "traceback": [
            "\u001b[0;36m  File \u001b[0;32m\"<ipython-input-1-9ea96e7de5c8>\"\u001b[0;36m, line \u001b[0;32m9\u001b[0m\n\u001b[0;31m    return -1z\u001b[0m\n\u001b[0m             ^\u001b[0m\n\u001b[0;31mSyntaxError\u001b[0m\u001b[0;31m:\u001b[0m invalid syntax\n"
          ]
        }
      ]
    },
    {
      "cell_type": "markdown",
      "metadata": {
        "id": "DI5-vtnuaCPb",
        "colab_type": "text"
      },
      "source": [
        "### 28"
      ]
    },
    {
      "cell_type": "code",
      "metadata": {
        "id": "V_n26Mfo_WuQ",
        "colab_type": "code",
        "colab": {}
      },
      "source": [
        "# Binary search time complexity O(logN), spce complexity O(1)\n",
        "class Solution:\n",
        "    def search(self, nums: List[int], target: int) -> bool:\n",
        "        if not nums:\n",
        "            return False\n",
        "        left,right= 0,len(nums)-1\n",
        "        \n",
        "        while left<=right:\n",
        "            mid=left+(right-left)//2\n",
        "            if nums[mid]==target:\n",
        "                return True\n",
        "            #Tricky part\n",
        "            while left<mid and nums[left]==nums[mid]:\n",
        "                left+=1\n",
        "                \n",
        "            if nums[left]<=nums[mid]: #search in the first part\n",
        "                if nums[left]<=target<nums[mid]:\n",
        "                    right=mid-1\n",
        "                else:\n",
        "                    left=mid+1\n",
        "            else: #search in the second part\n",
        "                if nums[mid]<target<=nums[right]:\n",
        "                    left=mid+1\n",
        "                else:\n",
        "                    right=mid-1\n",
        "        return False\n",
        "            \n",
        "#time complexity: O(n),space complexity O(1)\n",
        "class Solution:\n",
        "    def search(self, nums: List[int], target: int) -> bool:\n",
        "        if not nums:\n",
        "            return False\n",
        "        \n",
        "        for num in nums:\n",
        "            if num==target:\n",
        "                return True\n",
        "        return False"
      ],
      "execution_count": null,
      "outputs": []
    },
    {
      "cell_type": "markdown",
      "metadata": {
        "id": "IdzOUI8HunpL",
        "colab_type": "text"
      },
      "source": [
        "### 240-Search a 2D Matrix II"
      ]
    },
    {
      "cell_type": "code",
      "metadata": {
        "id": "SOCmaO65uqWY",
        "colab_type": "code",
        "colab": {}
      },
      "source": [
        "time complexity: O(MN),space complexity: O(1)\n",
        "class Solution:\n",
        "    def searchMatrix(self, matrix, target):\n",
        "\n",
        "        for row in matrix:\n",
        "            if target in row:\n",
        "                return True\n",
        "        return False"
      ],
      "execution_count": null,
      "outputs": []
    },
    {
      "cell_type": "markdown",
      "metadata": {
        "id": "NWGRU61qizE0",
        "colab_type": "text"
      },
      "source": [
        "### 69-Sqrt(x) (floor of square root)"
      ]
    },
    {
      "cell_type": "code",
      "metadata": {
        "id": "g61JT89vi6a_",
        "colab_type": "code",
        "colab": {}
      },
      "source": [
        "class Solution:\n",
        "    def mySqrt(self, x: int) -> int:\n",
        "        if x<2:\n",
        "            return x\n",
        "        left,right=2,x//2\n",
        "        \n",
        "        while left<=right:\n",
        "            pivot=left+(right-left)//2\n",
        "            num=pivot * pivot\n",
        "            if num>x:\n",
        "                right=pivot-1\n",
        "            elif num<x:\n",
        "                left=pivot+1\n",
        "            else:\n",
        "                return pivot\n",
        "        return right"
      ],
      "execution_count": null,
      "outputs": []
    },
    {
      "cell_type": "markdown",
      "metadata": {
        "id": "CbxnVV6HdyYv",
        "colab_type": "text"
      },
      "source": [
        "### 34-Find First and Last Position of Element in Sorted Array"
      ]
    },
    {
      "cell_type": "code",
      "metadata": {
        "id": "DAI64ReFd3qX",
        "colab_type": "code",
        "colab": {}
      },
      "source": [
        "#linear solution \n",
        "#time complexity: o(N),space complexity O(1)\n",
        "class Solution:\n",
        "    def searchRange(self, nums: List[int], target: int) -> List[int]:\n",
        "        \n",
        "        for i in range(len(nums)):\n",
        "            if nums[i]==target:\n",
        "                left_idx=i\n",
        "                break\n",
        "        else:\n",
        "            return [-1,-1]\n",
        "            \n",
        "        for j in range(len(nums)-1,-1,-1):\n",
        "            if nums[j]==target:\n",
        "                right_idx=j\n",
        "                break\n",
        "        \n",
        "        return [left_idx,right_idx]"
      ],
      "execution_count": null,
      "outputs": []
    },
    {
      "cell_type": "markdown",
      "metadata": {
        "id": "vgpwuuhA64j-",
        "colab_type": "text"
      },
      "source": [
        "# Greedy"
      ]
    },
    {
      "cell_type": "markdown",
      "metadata": {
        "id": "CRTl-4O40GfM",
        "colab_type": "text"
      },
      "source": [
        "### 29-Divide Two Integers"
      ]
    },
    {
      "cell_type": "code",
      "metadata": {
        "id": "ILePBQdR0I_g",
        "colab_type": "code",
        "colab": {}
      },
      "source": [
        "class Solution:\n",
        "    def divide(self, dividend: int, divisor: int) -> int:\n",
        "        intMax,intMin=2147483647,-2147483648\n",
        "        sign=1\n",
        "        if 0 in [dividend,divisor]:\n",
        "            return 0\n",
        "        elif dividend<0<divisor or divisor<0<dividend:\n",
        "            sign=-1\n",
        "            dividend,divisor=abs(dividend),abs(divisor)\n",
        "        else:\n",
        "            dividend,divisor=abs(dividend),abs(divisor)\n",
        "        res=0\n",
        "        while dividend>=divisor:\n",
        "            tmp,val=divisor,1\n",
        "            while dividend>= tmp+tmp:\n",
        "                tmp+=tmp\n",
        "                val+=val\n",
        "            res+=val\n",
        "            dividend-=tmp\n",
        "        if sign == 1:\n",
        "            return min(intMax, res)\n",
        "        else:\n",
        "            return max(intMin, 0-res)"
      ],
      "execution_count": null,
      "outputs": []
    },
    {
      "cell_type": "markdown",
      "metadata": {
        "id": "pru8oLMIik6D",
        "colab_type": "text"
      },
      "source": [
        "### 763-Partition Labels"
      ]
    },
    {
      "cell_type": "code",
      "metadata": {
        "id": "u8OMBBweioz0",
        "colab_type": "code",
        "colab": {}
      },
      "source": [
        "class Solution:\n",
        "    def partitionLabels(self, S: str) -> List[int]:\n",
        "        last={c:i for i,c in enumerate(S)}\n",
        "        j=anchor=0\n",
        "        ans=[]\n",
        "        for i,c in enumerate(S):\n",
        "            j=max(j,last[c])\n",
        "            if i==j:\n",
        "                ans.append(i-anchor+1)\n",
        "                anchor=i+1\n",
        "        return ans\n",
        "        "
      ],
      "execution_count": null,
      "outputs": []
    },
    {
      "cell_type": "markdown",
      "metadata": {
        "id": "38bSjHTB4aBW",
        "colab_type": "text"
      },
      "source": [
        "### 435-Non-overlapping Intervals"
      ]
    },
    {
      "cell_type": "code",
      "metadata": {
        "id": "22199boX4g9z",
        "colab_type": "code",
        "colab": {}
      },
      "source": [
        "#Greedy solution time complexity:O(NlogN),spacce complexity: O(1)\n",
        "class Solution:\n",
        "    def eraseOverlapIntervals(self, intervals: List[List[int]]) -> int:\n",
        "        end,cnt=float('-inf'),0\n",
        "        intervals.sort(key=lambda x:x[1])\n",
        "        for i in intervals:\n",
        "            if i[0]>=end:\n",
        "                end=i[1]\n",
        "            else:\n",
        "                cnt+=1\n",
        "        return cnt"
      ],
      "execution_count": null,
      "outputs": []
    },
    {
      "cell_type": "markdown",
      "metadata": {
        "id": "v8DJxGj568jP",
        "colab_type": "text"
      },
      "source": [
        "### 406-Queue Reconstruction by Height\n",
        "[[7,0], [4,4], [7,1], [5,0], [6,1], [5,2]] ==>[[5,0], [7,0], [5,2], [6,1], [4,4], [7,1]]"
      ]
    },
    {
      "cell_type": "code",
      "metadata": {
        "id": "ubZTPx_J66w2",
        "colab_type": "code",
        "colab": {}
      },
      "source": [
        "class Solution:\n",
        "    def reconstructQueue(self, people: List[List[int]]) -> List[List[int]]:\n",
        "        people.sort(key=lambda x: (-x[0],x[1]))\n",
        "        \n",
        "        output=[]\n",
        "        for p in people:\n",
        "            output.insert(p[1],p)\n",
        "        return output"
      ],
      "execution_count": null,
      "outputs": []
    },
    {
      "cell_type": "code",
      "metadata": {
        "id": "DZMcM7eonEKp",
        "colab_type": "code",
        "colab": {
          "base_uri": "https://localhost:8080/",
          "height": 85
        },
        "outputId": "77cdb21c-f49d-4a57-8a2e-9480129f4444"
      },
      "source": [
        "def ran(nums):\n",
        "  for i in range(nums):\n",
        "    print(i)\n",
        "\n",
        "ran(4)"
      ],
      "execution_count": null,
      "outputs": [
        {
          "output_type": "stream",
          "text": [
            "0\n",
            "1\n",
            "2\n",
            "3\n"
          ],
          "name": "stdout"
        }
      ]
    },
    {
      "cell_type": "markdown",
      "metadata": {
        "id": "IQsSiVtLnFCx",
        "colab_type": "text"
      },
      "source": [
        "# DP"
      ]
    },
    {
      "cell_type": "markdown",
      "metadata": {
        "id": "_FhMn97Di0WV",
        "colab_type": "text"
      },
      "source": [
        "### 130-Surrounded Regions\n",
        "<br> 棋盘问题，如何将棋盘四边设置为0\n"
      ]
    },
    {
      "cell_type": "code",
      "metadata": {
        "id": "WAnfV5JGjM20",
        "colab_type": "code",
        "colab": {}
      },
      "source": [
        "class Solution:\n",
        "    def solve(self, board: List[List[str]]) -> None:\n",
        "        \"\"\"\n",
        "        Do not return anything, modify board in-place instead.\n",
        "        \"\"\"\n",
        "        if not board:\n",
        "            return\n",
        "        m, n = len(board), len(board[0])\n",
        "        stack = []\n",
        "        for i in range(m):\n",
        "            if board[i][0] == 'O':\n",
        "                stack.append((i, 0))\n",
        "            if board[i][n - 1] == 'O':\n",
        "                stack.append((i, n - 1))\n",
        "        for i in range(1, n - 1):\n",
        "            if board[0][i] == 'O':\n",
        "                stack.append((0, i))\n",
        "            if board[m - 1][i] == 'O':\n",
        "                stack.append((m - 1, i))\n",
        "        while stack:\n",
        "            i, j = stack.pop()\n",
        "            if 0 <= i < m and 0 <= j < n and board[i][j] == 'O':\n",
        "                board[i][j] = \"#\"\n",
        "                stack += (i, j - 1), (i, j + 1), (i - 1, j), (i + 1, j)\n",
        "        board[:] = [['XO'[c == '#'] for c in row] for row in board]"
      ],
      "execution_count": null,
      "outputs": []
    },
    {
      "cell_type": "markdown",
      "metadata": {
        "id": "Vwvs9NyniQY2",
        "colab_type": "text"
      },
      "source": [
        "### 300-Longest Increasing subsequence"
      ]
    },
    {
      "cell_type": "code",
      "metadata": {
        "id": "jkg49FKBiZR-",
        "colab_type": "code",
        "colab": {}
      },
      "source": [
        "\n",
        "\n",
        "\n",
        "class Solution:\n",
        "    def lengthOfLIS(self, nums: List[int]) -> int:\n",
        "        if len(nums)==0:\n",
        "            return 0\n",
        "        \n",
        "        dp=[1]\n",
        "        max_len=1\n",
        "        \n",
        "        for i in range(1,len(nums)):\n",
        "            dp.append(1)\n",
        "            for j in range(i):\n",
        "                if nums[i]> nums[j] and dp[i]<=dp[j]:\n",
        "                    dp[i]=dp[j]+1\n",
        "            if dp[i] > max_len:\n",
        "                max_len=dp[i]\n",
        "        return max_len\n",
        "    \n",
        "\n"
      ],
      "execution_count": null,
      "outputs": []
    },
    {
      "cell_type": "markdown",
      "metadata": {
        "id": "BAK6ylc3cvG9",
        "colab_type": "text"
      },
      "source": [
        "### 368-Largest Divisable Subset"
      ]
    },
    {
      "cell_type": "code",
      "metadata": {
        "id": "vp0oAFEIc1gB",
        "colab_type": "code",
        "colab": {}
      },
      "source": [
        "class Solution:\n",
        "    def largestDivisibleSubset(self, nums: List[int]) -> List[int]:\n",
        "        if len(nums)==0:\n",
        "            return []\n",
        "        nums.sort()\n",
        "        sol=[[num] for num in nums]\n",
        "        \n",
        "        for i in range(len(nums)):\n",
        "            for j in range(i):\n",
        "                if nums[i] % nums[j]==0 and len(sol[i])< len(sol[j])+1: #edge case的附件条件，排除有相同len的解\n",
        "                    sol[i]= sol[j]+ [nums[i]] #注意添加顺序，应该是将之前形成的lsit，加入后面单独的nums[I]\n",
        "        return max(sol,key=len)"
      ],
      "execution_count": null,
      "outputs": []
    },
    {
      "cell_type": "markdown",
      "metadata": {
        "id": "Lto-MEoqnH4w",
        "colab_type": "text"
      },
      "source": [
        "### 518-Coin change 2"
      ]
    },
    {
      "cell_type": "code",
      "metadata": {
        "id": "pl16Ln9EnGWg",
        "colab_type": "code",
        "colab": {}
      },
      "source": [
        "class Solution:\n",
        "    def change(self, amount: int, coins: List[int]) -> int:\n",
        "        dp=[0] * (amount+1)\n",
        "        dp[0]=1\n",
        "        \n",
        "        for coin in coins:\n",
        "            for x in range(coin,amount+1):\n",
        "                dp[x] +=dp[x-coin]\n",
        "        return dp[amount]"
      ],
      "execution_count": null,
      "outputs": []
    },
    {
      "cell_type": "markdown",
      "metadata": {
        "id": "aWy0xlY_sg3K",
        "colab_type": "text"
      },
      "source": [
        "# Tree"
      ]
    },
    {
      "cell_type": "markdown",
      "metadata": {
        "id": "EqirPN1_osfk",
        "colab_type": "text"
      },
      "source": [
        "### 101-Symmetric Tree"
      ]
    },
    {
      "cell_type": "code",
      "metadata": {
        "id": "0nmNLrJoowvM",
        "colab_type": "code",
        "colab": {}
      },
      "source": [
        "# Definition for a binary tree node.\n",
        "# class TreeNode:\n",
        "#     def __init__(self, val=0, left=None, right=None):\n",
        "#         self.val = val\n",
        "#         self.left = left\n",
        "#         self.right = right\n",
        "class Solution:\n",
        "    def isSymmetric(self, root: TreeNode) -> bool:\n",
        "        if not root:\n",
        "            return True\n",
        "        if root:\n",
        "            return self.isMirror(root.left,root.right)\n",
        "    \n",
        "    \n",
        "    def isMirror(self,l,r):\n",
        "        if l and r:\n",
        "            return l.val==r.val and self.isMirror(l.right,r.left) and self.isMirror(l.left,r.right)\n",
        "        return l==r\n",
        "\n",
        "\n",
        "class Solution:\n",
        "    def isSymmetric(self, root: TreeNode) -> bool:\n",
        "        if not root:\n",
        "            return True\n",
        "        stack=[(root.left,root.right)]\n",
        "        while stack:\n",
        "            l,r=stack.pop()\n",
        "            if not l and not r:\n",
        "                continue\n",
        "            if not l or not r:\n",
        "                return False\n",
        "            if l.val != r.val:\n",
        "                return False\n",
        "            stack.append((l.left,r.right))\n",
        "            stack.append((l.right,r.left))\n",
        "        return True"
      ],
      "execution_count": null,
      "outputs": []
    },
    {
      "cell_type": "markdown",
      "metadata": {
        "id": "cAiOxBg8AJ8r",
        "colab_type": "text"
      },
      "source": [
        "### 129-Sum Root to Leaf Numbers"
      ]
    },
    {
      "cell_type": "code",
      "metadata": {
        "id": "JlP6echSANnY",
        "colab_type": "code",
        "colab": {}
      },
      "source": [
        "# Definition for a binary tree node.\n",
        "# class TreeNode:\n",
        "#     def __init__(self, val=0, left=None, right=None):\n",
        "#         self.val = val\n",
        "#         self.left = left\n",
        "#         self.right = right\n",
        "class Solution:\n",
        "    def sumNumbers(self, root: TreeNode) -> int:\n",
        "        root_to_leaf=0\n",
        "        stack=[(root,0)]\n",
        "        while stack:\n",
        "            root,curr_num=stack.pop()\n",
        "            if root:\n",
        "                curr_num=curr_num*10+root.val\n",
        "                if not root.left and not root.right:\n",
        "                    root_to_leaf+=curr_num\n",
        "                else:\n",
        "                    stack.append((root.right,curr_num))\n",
        "                    stack.append((root.left,curr_num))\n",
        "        return root_to_leaf"
      ],
      "execution_count": null,
      "outputs": []
    },
    {
      "cell_type": "markdown",
      "metadata": {
        "id": "xgcp8OubzRHN",
        "colab_type": "text"
      },
      "source": [
        "### 103-Binary Tree Zigzag Level Order Traversal"
      ]
    },
    {
      "cell_type": "code",
      "metadata": {
        "id": "d2ct5IzkzUHA",
        "colab_type": "code",
        "colab": {}
      },
      "source": [
        "# Definition for a binary tree node.\n",
        "# class TreeNode:\n",
        "#     def __init__(self, val=0, left=None, right=None):\n",
        "#         self.val = val\n",
        "#         self.left = left\n",
        "#         self.right = right\n",
        "class Solution:\n",
        "    def zigzagLevelOrder(self, root: TreeNode) -> List[List[int]]:\n",
        "        if not root:\n",
        "            return []\n",
        "        res,tmp,stack,flag=[],[],[root],1\n",
        "        while stack:\n",
        "            for i in range(len(stack)):\n",
        "                node=stack.pop(0) #默认pop 是list最后一位\n",
        "                tmp.append(node.val)\n",
        "                if node.left:\n",
        "                    stack+=[node.left]\n",
        "                if node.right:\n",
        "                    stack+=[node.right]\n",
        "            res +=[tmp[::flag]]\n",
        "            tmp=[]\n",
        "            flag *=-1\n",
        "        return res"
      ],
      "execution_count": null,
      "outputs": []
    },
    {
      "cell_type": "markdown",
      "metadata": {
        "id": "QR3JmBWun3Y7",
        "colab_type": "text"
      },
      "source": [
        "### 700-Search in a Binary Search Tree\n",
        "\n",
        "1.   Difference between Binary Tree and Binary Search Tree\n",
        "2.   Binary Tree is not ordered, binary search tree has smaller key value on left and larger key value on right\n",
        "\n"
      ]
    },
    {
      "cell_type": "code",
      "metadata": {
        "id": "l7MyY1-EoFm_",
        "colab_type": "code",
        "colab": {}
      },
      "source": [
        "# Definition for a binary tree node.\n",
        "# class TreeNode:\n",
        "#     def __init__(self, val=0, left=None, right=None):\n",
        "#         self.val = val\n",
        "#         self.left = left\n",
        "#         self.right = right\n",
        "\n",
        "time complexity: O(H) ,H is the height of three; O(logN) on average\n",
        "space complexity: O(H), O(logN) on average\n",
        "\n",
        "class Solution:\n",
        "    def searchBST(self, root: TreeNode, val: int) -> TreeNode:\n",
        "        if root is None or val==root.val:\n",
        "            return root\n",
        "        \n",
        "        if root.val > val:\n",
        "            return self.searchBST(root.left,val)\n",
        "        else:\n",
        "            return self.searchBST(root.right,val)\n",
        "\n",
        "##############\n",
        "iteration solution:\n",
        "time complexity: O(H)\n",
        "space complexity: O(1)\n",
        "\n",
        "class Solution:\n",
        "    def searchBST(self, root: TreeNode, val: int) -> TreeNode:\n",
        "        while root is not None and root.val != val:\n",
        "            if root.val > val:\n",
        "                root=root.left\n",
        "            else:\n",
        "                root=root.right\n",
        "        return root"
      ],
      "execution_count": null,
      "outputs": []
    },
    {
      "cell_type": "markdown",
      "metadata": {
        "id": "_LYOQLcYqI0n",
        "colab_type": "text"
      },
      "source": [
        "### 96-Unique Binary Search Tree\n",
        "<br> Catalan Number 实现：\n",
        "<br> 1,1,2,5,14,42\n",
        "<br> C(n+1)= C(0)C(n) + C(1)C(n-1) + C(2)C(n-2)+...+C(n)C(0)\n",
        "​\t\n",
        " "
      ]
    },
    {
      "cell_type": "code",
      "metadata": {
        "id": "kkCwE3uSqShN",
        "colab_type": "code",
        "colab": {}
      },
      "source": [
        "class Solution:\n",
        "    def numTrees(self, n: int) -> int:\n",
        "        res = [0] * (n+1)\n",
        "        res[0] = 1  #N=0 时，output 为1\n",
        "        for i in range(1, n+1):\n",
        "            for j in range(0,i):\n",
        "                res[i] += res[j] * res[i-1-j]\n",
        "        return res[n]\n",
        "        "
      ],
      "execution_count": null,
      "outputs": []
    },
    {
      "cell_type": "markdown",
      "metadata": {
        "id": "dzlzjX9tZeNC",
        "colab_type": "text"
      },
      "source": [
        "### 145-Binary Tree Postorder Reverse"
      ]
    },
    {
      "cell_type": "code",
      "metadata": {
        "id": "noadLloPZ-cn",
        "colab_type": "code",
        "colab": {}
      },
      "source": [
        "# Definition for a binary tree node.\n",
        "# class TreeNode:\n",
        "#     def __init__(self, val=0, left=None, right=None):\n",
        "#         self.val = val\n",
        "#         self.left = left\n",
        "#         self.right = right\n",
        "class Solution:\n",
        "    def postorderTraversal(self, root: TreeNode) -> List[int]:\n",
        "        if not root:\n",
        "            return []\n",
        "        \n",
        "        stack=[root, ]\n",
        "        res=[]\n",
        "        while stack:\n",
        "            root=stack.pop()\n",
        "            res.append(root.val)\n",
        "            if root.left:\n",
        "                stack.append(root.left)\n",
        "            if root.right:\n",
        "                stack.append(root.right)\n",
        "        return res[::-1]\n",
        "\n",
        "\n",
        "class Solution:\n",
        "    def postorderTraversal(self, root: TreeNode) -> List[int]:\n",
        "        \n",
        "        res = []\n",
        "        self.dfs(root, res)\n",
        "        return res\n",
        "    \n",
        "    def dfs(self, root, res):\n",
        "        if root:\n",
        "            self.dfs(root.left, res)\n",
        "            self.dfs(root.right, res)\n",
        "            res.append(root.val)"
      ],
      "execution_count": null,
      "outputs": []
    },
    {
      "cell_type": "markdown",
      "metadata": {
        "id": "O1ithinRLcDZ",
        "colab_type": "text"
      },
      "source": [
        "### 144-Binary Tree Preorder Reverse"
      ]
    },
    {
      "cell_type": "code",
      "metadata": {
        "id": "aqPTz53uLgzE",
        "colab_type": "code",
        "colab": {}
      },
      "source": [
        "# Definition for a binary tree node.\n",
        "# class TreeNode:\n",
        "#     def __init__(self, val=0, left=None, right=None):\n",
        "#         self.val = val\n",
        "#         self.left = left\n",
        "#         self.right = right\n",
        "\n",
        "#recursive solution\n",
        "class Solution:\n",
        "    def preorderTraversal(self, root: TreeNode) -> List[int]:\n",
        "        res=[]\n",
        "        self.helper(root,res)\n",
        "        return res\n",
        "        \n",
        "    def helper(self,root,res):\n",
        "        if root:\n",
        "            res.append(root.val)\n",
        "            self.helper(root.left,res)\n",
        "            self.helper(root.right,res)\n",
        "\n",
        "\n",
        "class Solution:\n",
        "    def preorderTraversal(self, root: TreeNode) -> List[int]:\n",
        "        if root is None:\n",
        "            return []\n",
        "        \n",
        "        stack,output=[root, ],[]\n",
        "        while stack:\n",
        "            root=stack.pop()\n",
        "            if root is not None:\n",
        "                output.append(root.val)\n",
        "                if root.right:\n",
        "                    stack.append(root.right)\n",
        "                if root.left:\n",
        "                    stack.append(root.left)\n",
        "        return output"
      ],
      "execution_count": null,
      "outputs": []
    },
    {
      "cell_type": "code",
      "metadata": {
        "id": "0GJJei-KSplI",
        "colab_type": "code",
        "colab": {}
      },
      "source": [
        ""
      ],
      "execution_count": null,
      "outputs": []
    },
    {
      "cell_type": "markdown",
      "metadata": {
        "id": "R1JFGn8uEs2m",
        "colab_type": "text"
      },
      "source": [
        "### 94-Binary Tree Inorder Reverse\n",
        "<br> reverse 标准形式"
      ]
    },
    {
      "cell_type": "code",
      "metadata": {
        "id": "NObu9gdiEyLp",
        "colab_type": "code",
        "colab": {}
      },
      "source": [
        "# Definition for a binary tree node.\n",
        "# class TreeNode:\n",
        "#     def __init__(self, val=0, left=None, right=None):\n",
        "#         self.val = val\n",
        "#         self.left = left\n",
        "#         self.right = right\n",
        "\n",
        "#iteration solution\n",
        "class Solution:\n",
        "    def inorderTraversal(self, root: TreeNode) -> List[int]:\n",
        "        res=[]\n",
        "        stack=[]\n",
        "        \n",
        "        while True:\n",
        "            while root:\n",
        "                stack.append(root)\n",
        "                root=root.left\n",
        "            if not stack:\n",
        "                return res\n",
        "            node=stack.pop()\n",
        "            res.append(node.val)\n",
        "            root=root.right\n",
        "\n",
        "# Recursive solution\n",
        "class Solution:\n",
        "    def inorderTraversal(self, root: TreeNode) -> List[int]:\n",
        "        res=[]\n",
        "        self.helper(root,res)\n",
        "        return res\n",
        "  \n",
        "    def helper(self,root,res):\n",
        "        if root:\n",
        "            self.helper(root.left,res)\n",
        "            res.append(root.val)\n",
        "            self.helper(root.right,res)"
      ],
      "execution_count": null,
      "outputs": []
    },
    {
      "cell_type": "markdown",
      "metadata": {
        "id": "UBW5FliUsrEp",
        "colab_type": "text"
      },
      "source": [
        "### 199-Binary Tree Right Side View"
      ]
    },
    {
      "cell_type": "code",
      "metadata": {
        "id": "YoO2sV0SnOfN",
        "colab_type": "code",
        "colab": {}
      },
      "source": [
        "        \n",
        "        # BFS + stack （先进后出）\n",
        "def rightSideView2(self, root):\n",
        "    res, stack = [], [(root, 0)]\n",
        "    while stack:\n",
        "        curr, level = stack.pop()\n",
        "        if curr:\n",
        "            if len(res) == level:\n",
        "                res.append(curr.val)\n",
        "            stack.append((curr.left, level+1))\n",
        "            stack.append((curr.right, level+1))\n",
        "    return res\n",
        "        \n",
        "# BFS + queue (先进先出)\n",
        "def rightSideView3(self, root):\n",
        "    res, queue = [], [(root, 0)]\n",
        "    while queue:\n",
        "        curr, level = queue.pop(0)\n",
        "        if curr:\n",
        "            if len(res) == level:\n",
        "                res.append(curr.val)\n",
        "            queue.append((curr.right, level+1))\n",
        "            queue.append((curr.left, level+1))\n",
        "    return res\n",
        "  "
      ],
      "execution_count": null,
      "outputs": []
    },
    {
      "cell_type": "markdown",
      "metadata": {
        "id": "PR8jQk_4qlkm",
        "colab_type": "text"
      },
      "source": [
        "### 236-Lowest Common Ancestor of a Binary Tree"
      ]
    },
    {
      "cell_type": "code",
      "metadata": {
        "id": "FXeknTTSqk18",
        "colab_type": "code",
        "colab": {}
      },
      "source": [
        "# Definition for a binary tree node.\n",
        "# class TreeNode:\n",
        "#     def __init__(self, x):\n",
        "#         self.val = x\n",
        "#         self.left = None\n",
        "#         self.right = None\n",
        "\n",
        "\n",
        "#Recusive DFS solution  time complexity:O(N)  space complexity:O(N)\n",
        "class Solution:\n",
        "    def lowestCommonAncestor(self, root: 'TreeNode', p: 'TreeNode', q: 'TreeNode') -> 'TreeNode':\n",
        "        if root==p or root==q:\n",
        "            return root\n",
        "        \n",
        "        left=right= None\n",
        "        if root.left:\n",
        "            left=self.lowestCommonAncestor(root.left,p,q)\n",
        "        if root.right:\n",
        "            right=self.lowestCommonAncestor(root.right,p,q)\n",
        "            \n",
        "        if left and right:\n",
        "            return root\n",
        "        else:\n",
        "            return left or right\n"
      ],
      "execution_count": null,
      "outputs": []
    },
    {
      "cell_type": "markdown",
      "metadata": {
        "id": "-ayjNg0m0k4-",
        "colab_type": "text"
      },
      "source": [
        "### 98-Validate Binary Tree"
      ]
    },
    {
      "cell_type": "code",
      "metadata": {
        "id": "10XT9Azt0kSN",
        "colab_type": "code",
        "colab": {}
      },
      "source": [
        "# Definition for a binary tree node.\n",
        "# class TreeNode:\n",
        "#     def __init__(self, val=0, left=None, right=None):\n",
        "#         self.val = val\n",
        "#         self.left = left\n",
        "#         self.right = right\n",
        "\n",
        "\n",
        "#DFS recursive solutions 需要增加两个parameter\n",
        "class Solution:\n",
        "    def isValidBST(self, root: TreeNode) -> bool:\n",
        "        return self.dfs(root, -float('inf'), float('inf'))\n",
        "  \n",
        "    def dfs(self, root, lower_bound, upper_bound):\n",
        "        if not root:\n",
        "            return True  \n",
        "        if lower_bound >= root.val or root.val >= upper_bound:\n",
        "            return False      \n",
        "        return self.dfs(root.left, lower_bound, root.val) and self.dfs(root.right, root.val, upper_bound)\n",
        "\n",
        "class Solution:\n",
        "    def isValidBST(self, root, floor=float('-inf'), ceiling=float('inf')):\n",
        "        if not root: \n",
        "            return True\n",
        "        if root.val <= floor or root.val >= ceiling:\n",
        "            return False\n",
        "    # in the left branch, root is the new ceiling; contrarily root is the new floor in right branch\n",
        "        return self.isValidBST(root.left, floor, root.val) and self.isValidBST(root.right, root.val, ceiling)\n",
        "      "
      ],
      "execution_count": null,
      "outputs": []
    },
    {
      "cell_type": "markdown",
      "metadata": {
        "id": "du1GWS9qiwLk",
        "colab_type": "text"
      },
      "source": [
        "### 207-Course Schedule"
      ]
    },
    {
      "cell_type": "code",
      "metadata": {
        "id": "lMoeb-nCi18k",
        "colab_type": "code",
        "colab": {}
      },
      "source": [
        "class Solution:\n",
        "    def canFinish(self, numCourses: int, prerequisites: List[List[int]]) -> bool:\n",
        "        G=[[] for i in range(numCourses)]\n",
        "        degree=[0]*numCourses\n",
        "        for j,i in prerequisites:\n",
        "            G[i].append(j)\n",
        "            degree[j]+=1\n",
        "        \n",
        "        bfs=[i for i in range(numCourses) if degree[i]==0]\n",
        "        for i in bfs:\n",
        "            for j in G[i]:\n",
        "                degree[j] -=1\n",
        "                if degree[j]==0:\n",
        "                    bfs.append(j)\n",
        "        return len(bfs)==numCourses"
      ],
      "execution_count": null,
      "outputs": []
    },
    {
      "cell_type": "markdown",
      "metadata": {
        "id": "swfyPM-l_m-x",
        "colab_type": "text"
      },
      "source": [
        "# Backtracking"
      ]
    },
    {
      "cell_type": "markdown",
      "metadata": {
        "id": "We8zRnn2H1JR",
        "colab_type": "text"
      },
      "source": [
        "### 47- Permutations II"
      ]
    },
    {
      "cell_type": "code",
      "metadata": {
        "id": "Ph3SUlT0H3KV",
        "colab_type": "code",
        "colab": {}
      },
      "source": [
        "class Solution:\n",
        "    def permuteUnique(self, nums: List[int]) -> List[List[int]]:\n",
        "        def backtrack(left,right):\n",
        "            if len(right)==0:\n",
        "                output.append(left)\n",
        "            for i in range(len(right)):\n",
        "                if i>0 and right[i]==right[i-1]:\n",
        "                    continue\n",
        "                backtrack(left+[right[i]],right[:i]+right[i+1:])\n",
        "        \n",
        "        nums.sort()\n",
        "        output=[]\n",
        "        backtrack([],nums)\n",
        "        return output\n",
        "        "
      ],
      "execution_count": null,
      "outputs": []
    },
    {
      "cell_type": "markdown",
      "metadata": {
        "id": "9p9BYsSDBt4h",
        "colab_type": "text"
      },
      "source": [
        "### 46-Permutations\n",
        "        "
      ]
    },
    {
      "cell_type": "code",
      "metadata": {
        "id": "KVuFV6cVBxD7",
        "colab_type": "code",
        "colab": {}
      },
      "source": [
        "#tc:\n",
        "class Solution:\n",
        "    def permute(self, nums: List[int]) -> List[List[int]]:\n",
        "        def backtrack(first=0):\n",
        "            if first==n:\n",
        "                output.append(nums[:])\n",
        "            for i in range(first,n):\n",
        "                nums[first],nums[i]=nums[i],nums[first]\n",
        "                backtrack(first+1)\n",
        "                nums[first],nums[i]=nums[i],nums[first]\n",
        "                \n",
        "        n=len(nums)\n",
        "        output=[]\n",
        "        backtrack()\n",
        "        return output\n",
        "        "
      ],
      "execution_count": null,
      "outputs": []
    },
    {
      "cell_type": "markdown",
      "metadata": {
        "id": "w3150KENPfWQ",
        "colab_type": "text"
      },
      "source": [
        "### 78-Subsets"
      ]
    },
    {
      "cell_type": "code",
      "metadata": {
        "id": "brCXKjVcPkD3",
        "colab_type": "code",
        "colab": {}
      },
      "source": [
        "class Solution:\n",
        "    def subsets(self, nums: List[int]) -> List[List[int]]:\n",
        "        if not nums:\n",
        "            return []\n",
        "        def backtrack(first=0,curr=[]):\n",
        "            if len(curr)==k:\n",
        "                output.append(curr[:])\n",
        "            for i in range(first,n):\n",
        "                curr.append(nums[i])\n",
        "                backtrack(i+1,curr)\n",
        "                curr.pop()\n",
        "                \n",
        "        output=[]\n",
        "        n=len(nums)\n",
        "        for k in range(n+1):\n",
        "            backtrack()\n",
        "        return output"
      ],
      "execution_count": null,
      "outputs": []
    },
    {
      "cell_type": "code",
      "metadata": {
        "id": "pmvgxVsL_rNG",
        "colab_type": "code",
        "colab": {}
      },
      "source": [
        "class Solution:\n",
        "    def combinationSum(self, candidates: List[int], target: int) -> List[List[int]]:\n",
        "        def backtrack(tmp,start,end,target):\n",
        "            if target ==0:\n",
        "                ans.append(tmp[:])\n",
        "            elif target > 0:\n",
        "                for i in range(start,end):\n",
        "                    tmp.append(candidates[i])\n",
        "                    backtrack(tmp,i,end,target-candidates[i])\n",
        "                    tmp.pop()\n",
        "        ans=[]\n",
        "        candidates.sort(reverse=True)\n",
        "        backtrack([],0,len(candidates),target)\n",
        "        return ans\n",
        "\n",
        "class Solution:\n",
        "    def combinationSum(self, candidates: List[int], target: int) -> List[List[int]]:\n",
        "        res=[]\n",
        "        candidates.sort()\n",
        "        self.dfs(candidates,target,0,[],res)\n",
        "        return res\n",
        "    \n",
        "    def dfs(self,nums,target,idx,path,res):\n",
        "        if target < 0:\n",
        "            return\n",
        "        if target==0:\n",
        "            res.append(path)\n",
        "            return\n",
        "        for i in range(idx,len(nums)):\n",
        "            self.dfs(nums,target-nums[i],i,path+[nums[i]],res)"
      ],
      "execution_count": null,
      "outputs": []
    },
    {
      "cell_type": "markdown",
      "metadata": {
        "id": "vpHCCtbj1aVZ",
        "colab_type": "text"
      },
      "source": [
        "### 131- Palindrome Partitioning"
      ]
    },
    {
      "cell_type": "code",
      "metadata": {
        "id": "wG_nEuSl1enW",
        "colab_type": "code",
        "colab": {}
      },
      "source": [
        "class Solution:\n",
        "    def partition(self, s: str) -> List[List[str]]:\n",
        "        def backtrack(start,end,tmp):\n",
        "            if start==end:\n",
        "                ans.append(tmp[:])\n",
        "            for i in range(start,end):\n",
        "                cur=s[start:i+1]\n",
        "                if cur==cur[::-1]:\n",
        "                    tmp.append(cur)\n",
        "                    backtrack(i+1,end,tmp)\n",
        "                    tmp.pop()\n",
        "        ans=[]\n",
        "        backtrack(0,len(s),[])\n",
        "        return ans\n",
        "        "
      ],
      "execution_count": null,
      "outputs": []
    },
    {
      "cell_type": "markdown",
      "metadata": {
        "id": "lkKDpCeroEOa",
        "colab_type": "text"
      },
      "source": [
        "# BFS"
      ]
    },
    {
      "cell_type": "markdown",
      "metadata": {
        "id": "TyG2sVAxnjx8",
        "colab_type": "text"
      },
      "source": [
        "###  815-Bus Routes"
      ]
    },
    {
      "cell_type": "code",
      "metadata": {
        "id": "4KK-3uD6nn4B",
        "colab_type": "code",
        "colab": {}
      },
      "source": [
        "class Solution:\n",
        "    def numBusesToDestination(self, routes: List[List[int]], S: int, T: int) -> int:\n",
        "        if S==T:return 0\n",
        "        stopBoard=collections.defaultdict(set)\n",
        "        for bus,stops in enumerate(routes):\n",
        "            for stop in stops:\n",
        "                stopBoard[stop].add(bus)\n",
        "                \n",
        "        queue=collections.deque([S]) # The queue is to record all of the stops you can reach when you take one time of bus.\n",
        "        visited=set() # # Using visited to record the buses that have been taken before, because you needn't to take them again.\n",
        "        res=0\n",
        "        \n",
        "        while queue:\n",
        "            res+=1 # take one time of bus.\n",
        "            pre_num_stops=len(queue)             \n",
        "            # In order to traverse all of the stops you can reach for this time, you have to traverse\n",
        "            # all of the stops you can reach in last time.\n",
        "            \n",
        "            for _ in range(pre_num_stops):\n",
        "                curStop=queue.popleft()\n",
        "                for bus in stopBoard[curStop]:\n",
        "                    if bus in visited: continue\n",
        "                    visited.add(bus)\n",
        "                    for stop in routes[bus]:\n",
        "                        if stop==T:\n",
        "                            return res\n",
        "                        else:\n",
        "                            queue.append(stop)\n",
        "        return -1\n",
        "\n",
        "class Solution:\n",
        "    def numBusesToDestination(self, routes: List[List[int]], S: int, T: int) -> int:\n",
        "        if S==T:\n",
        "            return 0\n",
        "        to_routes=collections.defaultdict(set)\n",
        "        for i,route in enumerate(routes):\n",
        "            for j in route:\n",
        "                to_routes[j].add(i)\n",
        "        \n",
        "        bfs=[(S,0)]\n",
        "        seen=set([S])\n",
        "        \n",
        "        for stop,bus in bfs:\n",
        "            if stop==T:\n",
        "                return bus\n",
        "            for i in to_routes[stop]:\n",
        "                for j in routes[i]:\n",
        "                    if j not in seen:\n",
        "                        bfs.append((j,bus+1))\n",
        "                        seen.add(j)\n",
        "                routes[i]=[]\n",
        "        return -1"
      ],
      "execution_count": null,
      "outputs": []
    },
    {
      "cell_type": "markdown",
      "metadata": {
        "id": "dEX2phw1RHgP",
        "colab_type": "text"
      },
      "source": [
        "### 45- Jump Game II"
      ]
    },
    {
      "cell_type": "code",
      "metadata": {
        "id": "zXA_uu4yRLi6",
        "colab_type": "code",
        "colab": {}
      },
      "source": [
        "class Solution:\n",
        "    def jump(self, nums: List[int]) -> int:\n",
        "        if len(nums)<=1:\n",
        "            return 0\n",
        "        l,r=0,nums[0]\n",
        "        times=1\n",
        "        while r < len(nums)-1:\n",
        "            times+=1\n",
        "            nxt=max(i+nums[i] for i in range(l,r+1))\n",
        "            l,r=r,nxt\n",
        "        return times\n",
        "\n",
        "class Solution:\n",
        "    def jump(self, nums: List[int]) -> int:\n",
        "        n=len(nums)\n",
        "        start,end,step=0,0,0\n",
        "        while end < n-1:\n",
        "            step+=1\n",
        "            maxend=end+1\n",
        "            for i in range(start,end+1):\n",
        "                if i+nums[i]>=n-1:\n",
        "                    return step\n",
        "                maxend=max(maxend,i+nums[i])\n",
        "            start,end=end+1,maxend\n",
        "        return step"
      ],
      "execution_count": null,
      "outputs": []
    },
    {
      "cell_type": "markdown",
      "metadata": {
        "id": "qubshaSaApXx",
        "colab_type": "text"
      },
      "source": [
        "### 1306-Jump Game III"
      ]
    },
    {
      "cell_type": "code",
      "metadata": {
        "id": "OpFpy4kQAsgf",
        "colab_type": "code",
        "colab": {}
      },
      "source": [
        "class Solution:\n",
        "    def canReach(self, arr: List[int], start: int) -> bool:\n",
        "        queue=collections.deque([start])\n",
        "        seen=set()\n",
        "        seen.add(start)\n",
        "        while queue:\n",
        "            curr=queue.popleft()\n",
        "            if arr[curr]==0:\n",
        "                return True\n",
        "            for child in curr-arr[curr],curr+arr[curr]:\n",
        "                if  0<=child<len(arr) and child not in seen:\n",
        "                    seen.add(child)\n",
        "                    queue.append(child)\n",
        "        return False\n",
        "        "
      ],
      "execution_count": null,
      "outputs": []
    },
    {
      "cell_type": "markdown",
      "metadata": {
        "id": "6rK6lUDVoGtl",
        "colab_type": "text"
      },
      "source": [
        "### 199-Binary Tree Right Side View\n",
        "<br> BFS TC:O(N^2) SC:O(N)\n"
      ]
    },
    {
      "cell_type": "code",
      "metadata": {
        "id": "-tsAJ_I7oNsT",
        "colab_type": "code",
        "colab": {}
      },
      "source": [
        "\n",
        "# Definition for a binary tree node.\n",
        "# class TreeNode:\n",
        "#     def __init__(self, val=0, left=None, right=None):\n",
        "#         self.val = val\n",
        "#         self.left = left\n",
        "#         self.right = right\n",
        "class Solution:\n",
        "    def rightSideView(self, root: TreeNode) -> List[int]:\n",
        "\n",
        "        ans=[]\n",
        "        queue=[(root,0)]\n",
        "        \n",
        "        while queue:\n",
        "            curr,level = queue.pop(0)\n",
        "            if curr:\n",
        "                if len(ans)==level:\n",
        "                    ans.append(curr.val)\n",
        "                queue.append((curr.right,level+1))\n",
        "                queue.append((curr.left,level+1))\n",
        "        return ans"
      ],
      "execution_count": null,
      "outputs": []
    },
    {
      "cell_type": "markdown",
      "metadata": {
        "id": "a1kdjiHx8f0v",
        "colab_type": "text"
      },
      "source": [
        "### 545-Boundary of Binary Tree"
      ]
    },
    {
      "cell_type": "code",
      "metadata": {
        "id": "J5M9jWGk8iZt",
        "colab_type": "code",
        "colab": {}
      },
      "source": [
        "# Definition for a binary tree node.\n",
        "# class TreeNode:\n",
        "#     def __init__(self, val=0, left=None, right=None):\n",
        "#         self.val = val\n",
        "#         self.left = left\n",
        "#         self.right = right\n",
        "class Solution:\n",
        "    def boundaryOfBinaryTree(self, root: TreeNode) -> List[int]:\n",
        "        \n",
        "        def dfs_leftmost(node):\n",
        "            if not node or not node.left and not node.right:\n",
        "                return\n",
        "            boundary.append(node.val)\n",
        "            if node.left:\n",
        "                dfs_leftmost(node.left)\n",
        "            else:\n",
        "                dfs_leftmost(node.right)\n",
        "        \n",
        "        def dfs_leaves(node):\n",
        "            if not node:\n",
        "                return\n",
        "            dfs_leaves(node.left)\n",
        "            if node !=root and not node.left and not node.right:\n",
        "                boundary.append(node.val)\n",
        "            dfs_leaves(node.right)\n",
        "        \n",
        "        def dfs_rightmost(node):\n",
        "            if not node or not node.left and not node.right:\n",
        "                return\n",
        "            if node.right:\n",
        "                dfs_rightmost(node.right)\n",
        "            else:\n",
        "                dfs_rightmost(node.left)\n",
        "            boundary.append(node.val)\n",
        "            \n",
        "        if not root:\n",
        "            return []\n",
        "        boundary=[root.val]\n",
        "        dfs_leftmost(root.left)\n",
        "        dfs_leaves(root)\n",
        "        dfs_rightmost(root.right)\n",
        "        \n",
        "        return boundary"
      ],
      "execution_count": null,
      "outputs": []
    },
    {
      "cell_type": "markdown",
      "metadata": {
        "id": "Al5yMYlIrL4F",
        "colab_type": "text"
      },
      "source": [
        "### 662-Maximum Width of Binary Tree\n",
        "<br> 从树 构建 col 和 level 进行检索"
      ]
    },
    {
      "cell_type": "code",
      "metadata": {
        "id": "bhGgHihcrRW6",
        "colab_type": "code",
        "colab": {}
      },
      "source": [
        "# Definition for a binary tree node.\n",
        "# class TreeNode:\n",
        "#     def __init__(self, val=0, left=None, right=None):\n",
        "#         self.val = val\n",
        "#         self.left = left\n",
        "#         self.right = right\n",
        "class Solution:\n",
        "    def widthOfBinaryTree(self, root: TreeNode) -> int:\n",
        "        if not root:\n",
        "            return 0\n",
        "        max_width=0\n",
        "        queue=deque()\n",
        "        queue.append((root,0))\\\n",
        "        \n",
        "        while queue:\n",
        "            level_len=len(queue)\n",
        "            _,level_head_index=queue[0]\n",
        "            \n",
        "            for _ in range(level_len):\n",
        "                node,col_index=queue.popleft()\n",
        "                if node.left:\n",
        "                    queue.append((node.left,2*col_index))\n",
        "                if node.right:\n",
        "                    queue.append((node.right,2*col_index+1))\n",
        "            max_width=max(max_width,col_index-level_head_index+1)\n",
        "        return max_width"
      ],
      "execution_count": null,
      "outputs": []
    },
    {
      "cell_type": "markdown",
      "metadata": {
        "id": "BUtZ4D0wMUt_",
        "colab_type": "text"
      },
      "source": [
        "# DFS"
      ]
    },
    {
      "cell_type": "markdown",
      "metadata": {
        "id": "UJADZKcGihr4",
        "colab_type": "text"
      },
      "source": [
        "### 339-Nested List Weight Sum"
      ]
    },
    {
      "cell_type": "code",
      "metadata": {
        "id": "VFDikY31im1o",
        "colab_type": "code",
        "colab": {}
      },
      "source": [
        "# TC:O(N) SC:O(d)\n",
        "class Solution:\n",
        "    def depthSum(self, nestedList: List[NestedInteger]) -> int:\n",
        "        \n",
        "        def visit(nestedList,depth):\n",
        "            res=0\n",
        "            for item in nestedList:\n",
        "                if item.isInteger():\n",
        "                    res+=item.getInteger()*depth\n",
        "                else:\n",
        "                    res+= visit(item.getList(),depth+1)\n",
        "            return res\n",
        "        return visit(nestedList,1)\n",
        "        "
      ],
      "execution_count": null,
      "outputs": []
    },
    {
      "cell_type": "markdown",
      "metadata": {
        "id": "LpwMesxHlTpq",
        "colab_type": "text"
      },
      "source": [
        "### 332-Reconstruct Itinerary"
      ]
    },
    {
      "cell_type": "code",
      "metadata": {
        "id": "V8g8vAHVlZ35",
        "colab_type": "code",
        "colab": {}
      },
      "source": [
        "class Solution:\n",
        "    def findItinerary(self, tickets: List[List[str]]) -> List[str]:\n",
        "        graph={}\n",
        "        \n",
        "        for dep,arr in tickets:\n",
        "            if dep in graph:\n",
        "                graph[dep].append(arr)\n",
        "            else:\n",
        "                graph[dep]= [arr]\n",
        "        for dep in graph.keys():\n",
        "            graph[dep].sort(reverse=True)\n",
        "            \n",
        "        stack=[]\n",
        "        res=[]\n",
        "        stack.append('JFK')\n",
        "        while stack:\n",
        "            elem=stack[-1]\n",
        "            if elem in graph and len(graph[elem])>0:\n",
        "                stack.append(graph[elem].pop())\n",
        "            else:\n",
        "                res.append(stack.pop())\n",
        "        return res[::-1]\n",
        "            "
      ],
      "execution_count": null,
      "outputs": []
    },
    {
      "cell_type": "markdown",
      "metadata": {
        "id": "x3LUoJZaMXz1",
        "colab_type": "text"
      },
      "source": [
        "### 200-Number of Islands"
      ]
    },
    {
      "cell_type": "code",
      "metadata": {
        "id": "pHTyziOdMWLM",
        "colab_type": "code",
        "colab": {}
      },
      "source": [
        "TC O(M*N) SCO(M*N)\n",
        "\n",
        "class Solution:\n",
        "    def numIslands(self, grid: List[List[str]]) -> int:\n",
        "        if not grid:\n",
        "            return 0\n",
        "        count=0\n",
        "        for i in range(len(grid)):\n",
        "            for j in range(len(grid[0])):\n",
        "                if grid[i][j]=='1':\n",
        "                    self.dfs(grid,i,j)\n",
        "                    count+=1\n",
        "        return count\n",
        "    \n",
        "    def dfs(self,grid,i,j):\n",
        "        if i<0 or j<0 or i>=len(grid) or j>=len(grid[0]) or grid[i][j] !='1':\n",
        "            return\n",
        "        grid[i][j]='#'\n",
        "        self.dfs(grid,i+1,j)\n",
        "        self.dfs(grid,i-1,j)\n",
        "        self.dfs(grid,i,j-1)\n",
        "        self.dfs(grid,i,j+1)"
      ],
      "execution_count": null,
      "outputs": []
    },
    {
      "cell_type": "markdown",
      "metadata": {
        "id": "_XgrKskMH4M7",
        "colab_type": "text"
      },
      "source": [
        "### 314-Binary Tree Vertical Order Traversal\n",
        "<br> BFS solution"
      ]
    },
    {
      "cell_type": "code",
      "metadata": {
        "id": "fF34qq-AH7I3",
        "colab_type": "code",
        "colab": {}
      },
      "source": [
        "# Definition for a binary tree node.\n",
        "# class TreeNode:\n",
        "#     def __init__(self, val=0, left=None, right=None):\n",
        "#         self.val = val\n",
        "#         self.left = left\n",
        "#         self.right = right\n",
        "class Solution:\n",
        "    def verticalOrder(self, root: TreeNode) -> List[List[int]]:\n",
        "        if not root:\n",
        "            return[]\n",
        "        \n",
        "        colTable=defaultdict(list)\n",
        "        queue=[(root,0)]\n",
        "        while queue:\n",
        "            node,col=queue.pop(0)\n",
        "            if not node:\n",
        "                continue\n",
        "            colTable[col].append(node.val)\n",
        "            queue.append((node.left,col-1))\n",
        "            queue.append((node.right,col+1))\n",
        "        return [colTable[i] for i in sorted(colTable)]"
      ],
      "execution_count": null,
      "outputs": []
    },
    {
      "cell_type": "markdown",
      "metadata": {
        "id": "JE7eT4PexazQ",
        "colab_type": "text"
      },
      "source": [
        "# DP"
      ]
    },
    {
      "cell_type": "markdown",
      "metadata": {
        "id": "fl7jP0gRxdWw",
        "colab_type": "text"
      },
      "source": [
        "### 62-Unique Path"
      ]
    },
    {
      "cell_type": "code",
      "metadata": {
        "id": "DZUuK-8rxb7Y",
        "colab_type": "code",
        "colab": {}
      },
      "source": [
        "class Solution:\n",
        "    def uniquePaths(self, m: int, n: int) -> int:\n",
        "        dp=[1]*n\n",
        "        for i in range(1,m):\n",
        "            for j in range(1,n):\n",
        "                dp[j]+=dp[j-1]\n",
        "        return dp[-1]\n",
        "        "
      ],
      "execution_count": null,
      "outputs": []
    }
  ]
}