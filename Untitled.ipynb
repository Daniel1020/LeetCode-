{
 "cells": [
  {
   "cell_type": "code",
   "execution_count": null,
   "metadata": {},
   "outputs": [],
   "source": [
    "def twoSum(self,nums,target):\n",
    "    for i in nums:\n",
    "        j = target - i\n",
    "        start_index = nums.index (i)\n",
    "        next_index = nums.index +1\n",
    "        temp_nums= nums [next_index: ]\n",
    "        if j in temp_nums:\n",
    "            return(nums.index(i),next_index+temp_nums.index(j))"
   ]
  },
  {
   "cell_type": "code",
   "execution_count": null,
   "metadata": {},
   "outputs": [],
   "source": [
    "def twoSum(sefl,nums,target):\n",
    "    dict={}\n",
    "    \n",
    "    for i in range(len(nums)):\n",
    "        if target - nums[i] not in dict:\n",
    "            dict[nums[i]]= i\n",
    "        else:\n",
    "            return [dict[target-nums[i]],i]"
   ]
  },
  {
   "cell_type": "code",
   "execution_count": 5,
   "metadata": {},
   "outputs": [],
   "source": [
    "dict={}"
   ]
  },
  {
   "cell_type": "code",
   "execution_count": 6,
   "metadata": {},
   "outputs": [],
   "source": [
    "dict[7]=2"
   ]
  },
  {
   "cell_type": "code",
   "execution_count": 7,
   "metadata": {},
   "outputs": [
    {
     "data": {
      "text/plain": [
       "{7: 2}"
      ]
     },
     "execution_count": 7,
     "metadata": {},
     "output_type": "execute_result"
    }
   ],
   "source": [
    "dict"
   ]
  },
  {
   "cell_type": "code",
   "execution_count": null,
   "metadata": {},
   "outputs": [],
   "source": [
    "def reverse(sefl,x):\n",
    "    num = 0\n",
    "    \n",
    "    a = abs(x)\n",
    "    \n",
    "    while (a! = 0):\n",
    "        temp = a % 10\n",
    "        print ('a',a)\n",
    "        num = num *10 +temp\n",
    "        print ('num',num)\n",
    "        a = int (a/10)\n",
    "        \n",
    "        if x >0  and num < 2147483647:\n",
    "            return num\n",
    "        elif x<0 and x <= -2147483647:\n",
    "            return -num\n",
    "        else:\n",
    "            return 0\n"
   ]
  },
  {
   "cell_type": "code",
   "execution_count": 5,
   "metadata": {},
   "outputs": [
    {
     "data": {
      "text/plain": [
       "12"
      ]
     },
     "execution_count": 5,
     "metadata": {},
     "output_type": "execute_result"
    }
   ],
   "source": [
    "int(123/10)"
   ]
  },
  {
   "cell_type": "code",
   "execution_count": null,
   "metadata": {},
   "outputs": [],
   "source": []
  }
 ],
 "metadata": {
  "kernelspec": {
   "display_name": "Python 3",
   "language": "python",
   "name": "python3"
  },
  "language_info": {
   "codemirror_mode": {
    "name": "ipython",
    "version": 3
   },
   "file_extension": ".py",
   "mimetype": "text/x-python",
   "name": "python",
   "nbconvert_exporter": "python",
   "pygments_lexer": "ipython3",
   "version": "3.6.4"
  }
 },
 "nbformat": 4,
 "nbformat_minor": 2
}
