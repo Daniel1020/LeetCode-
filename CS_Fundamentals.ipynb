{
  "nbformat": 4,
  "nbformat_minor": 0,
  "metadata": {
    "colab": {
      "name": "CS Fundamentals.ipynb",
      "version": "0.3.2",
      "provenance": [],
      "include_colab_link": true
    },
    "kernelspec": {
      "name": "python3",
      "display_name": "Python 3"
    }
  },
  "cells": [
    {
      "cell_type": "markdown",
      "metadata": {
        "id": "view-in-github",
        "colab_type": "text"
      },
      "source": [
        "<a href=\"https://colab.research.google.com/github/Daniel1020/LeetCode-/blob/master/CS_Fundamentals.ipynb\" target=\"_parent\"><img src=\"https://colab.research.google.com/assets/colab-badge.svg\" alt=\"Open In Colab\"/></a>"
      ]
    },
    {
      "cell_type": "code",
      "metadata": {
        "id": "Ygpc_kJNHGuS",
        "colab_type": "code",
        "colab": {}
      },
      "source": [
        "## Binary search\n",
        "\n",
        "def binary_search(A,item):\n",
        "  if len(A)==0:\n",
        "    return False\n",
        "  else:\n",
        "    middle =len(A) //2\n",
        "    if A[middle] == item:\n",
        "      return True\n",
        "    elif A[middle] < item:\n",
        "      return binary_search(A[:middle],item)\n",
        "    else:\n",
        "      return binary_search(A[middle+1:],item)\n",
        "      "
      ],
      "execution_count": 0,
      "outputs": []
    },
    {
      "cell_type": "code",
      "metadata": {
        "id": "SpH7eyi_IC3T",
        "colab_type": "code",
        "outputId": "e62613d5-aa15-4b4a-e8f8-ba55ddfd81e6",
        "colab": {
          "base_uri": "https://localhost:8080/",
          "height": 51
        }
      },
      "source": [
        "nums= [1,2,3,5,8,22,34,42,87,103]\n",
        "\n",
        "print(binary_search(nums,10))\n",
        "print(binary_search(nums,22))"
      ],
      "execution_count": 0,
      "outputs": [
        {
          "output_type": "stream",
          "text": [
            "False\n",
            "True\n"
          ],
          "name": "stdout"
        }
      ]
    },
    {
      "cell_type": "code",
      "metadata": {
        "id": "27H5vdViIPXa",
        "colab_type": "code",
        "colab": {}
      },
      "source": [
        ""
      ],
      "execution_count": 0,
      "outputs": []
    },
    {
      "cell_type": "markdown",
      "metadata": {
        "id": "bzY9YWmimzwE",
        "colab_type": "text"
      },
      "source": [
        "## linked list"
      ]
    },
    {
      "cell_type": "code",
      "metadata": {
        "id": "hg0LGFRPm289",
        "colab_type": "code",
        "colab": {}
      },
      "source": [
        "def traverse(node):\n",
        "  if node.next != null:\n",
        "    traverse(node.next)\n",
        "    \n",
        "  print (node.data)"
      ],
      "execution_count": 0,
      "outputs": []
    },
    {
      "cell_type": "markdown",
      "metadata": {
        "id": "0BqrbY1yskfI",
        "colab_type": "text"
      },
      "source": [
        "## Stacks\n",
        "### last in first out"
      ]
    },
    {
      "cell_type": "code",
      "metadata": {
        "id": "ysTEa01Ronw3",
        "colab_type": "code",
        "colab": {
          "base_uri": "https://localhost:8080/",
          "height": 168
        },
        "outputId": "fed8d243-0081-4b81-b5c2-65754e254f45"
      },
      "source": [
        "push(1)\n",
        "push(pop()*2)\n",
        "push(pop()+1)\n",
        "pop()\n",
        "pop() \n",
        "##\n",
        "# 1\n",
        "# 2\n",
        "# 3\n",
        "# ()\n",
        "# \"stack underflow error\""
      ],
      "execution_count": 7,
      "outputs": [
        {
          "output_type": "error",
          "ename": "NameError",
          "evalue": "ignored",
          "traceback": [
            "\u001b[0;31m---------------------------------------------------------------------------\u001b[0m",
            "\u001b[0;31mNameError\u001b[0m                                 Traceback (most recent call last)",
            "\u001b[0;32m<ipython-input-7-eeb1061d825f>\u001b[0m in \u001b[0;36m<module>\u001b[0;34m()\u001b[0m\n\u001b[0;32m----> 1\u001b[0;31m \u001b[0mpush\u001b[0m\u001b[0;34m(\u001b[0m\u001b[0;36m7\u001b[0m\u001b[0;34m)\u001b[0m\u001b[0;34m\u001b[0m\u001b[0;34m\u001b[0m\u001b[0m\n\u001b[0m",
            "\u001b[0;31mNameError\u001b[0m: name 'push' is not defined"
          ]
        }
      ]
    },
    {
      "cell_type": "code",
      "metadata": {
        "id": "6L9ysWMvylXx",
        "colab_type": "code",
        "colab": {
          "base_uri": "https://localhost:8080/",
          "height": 236
        },
        "outputId": "8440456f-0c08-416d-ab9c-dc298f0fb810"
      },
      "source": [
        "s = Stack()\n",
        "s.push('Hello')\n",
        "s.push('there,')\n",
        "s.push('how')\n",
        "s.push('are')\n",
        "s.push('you?')\n",
        "print(s.pop())\n",
        "print(s.pop())"
      ],
      "execution_count": 8,
      "outputs": [
        {
          "output_type": "error",
          "ename": "NameError",
          "evalue": "ignored",
          "traceback": [
            "\u001b[0;31m---------------------------------------------------------------------------\u001b[0m",
            "\u001b[0;31mNameError\u001b[0m                                 Traceback (most recent call last)",
            "\u001b[0;32m<ipython-input-8-cb4b643280d7>\u001b[0m in \u001b[0;36m<module>\u001b[0;34m()\u001b[0m\n\u001b[0;32m----> 1\u001b[0;31m \u001b[0ms\u001b[0m \u001b[0;34m=\u001b[0m \u001b[0mStack\u001b[0m\u001b[0;34m(\u001b[0m\u001b[0;34m)\u001b[0m\u001b[0;34m\u001b[0m\u001b[0;34m\u001b[0m\u001b[0m\n\u001b[0m\u001b[1;32m      2\u001b[0m \u001b[0ms\u001b[0m\u001b[0;34m.\u001b[0m\u001b[0mpush\u001b[0m\u001b[0;34m(\u001b[0m\u001b[0;34m'Hello'\u001b[0m\u001b[0;34m)\u001b[0m\u001b[0;34m\u001b[0m\u001b[0;34m\u001b[0m\u001b[0m\n\u001b[1;32m      3\u001b[0m \u001b[0ms\u001b[0m\u001b[0;34m.\u001b[0m\u001b[0mpush\u001b[0m\u001b[0;34m(\u001b[0m\u001b[0;34m'there,'\u001b[0m\u001b[0;34m)\u001b[0m\u001b[0;34m\u001b[0m\u001b[0;34m\u001b[0m\u001b[0m\n\u001b[1;32m      4\u001b[0m \u001b[0ms\u001b[0m\u001b[0;34m.\u001b[0m\u001b[0mpush\u001b[0m\u001b[0;34m(\u001b[0m\u001b[0;34m'how'\u001b[0m\u001b[0;34m)\u001b[0m\u001b[0;34m\u001b[0m\u001b[0;34m\u001b[0m\u001b[0m\n\u001b[1;32m      5\u001b[0m \u001b[0ms\u001b[0m\u001b[0;34m.\u001b[0m\u001b[0mpush\u001b[0m\u001b[0;34m(\u001b[0m\u001b[0;34m'are'\u001b[0m\u001b[0;34m)\u001b[0m\u001b[0;34m\u001b[0m\u001b[0;34m\u001b[0m\u001b[0m\n",
            "\u001b[0;31mNameError\u001b[0m: name 'Stack' is not defined"
          ]
        }
      ]
    },
    {
      "cell_type": "markdown",
      "metadata": {
        "id": "wGFpZvf10s8k",
        "colab_type": "text"
      },
      "source": [
        "## queue\n",
        "## first in first out"
      ]
    },
    {
      "cell_type": "code",
      "metadata": {
        "id": "LT019fTT0ysC",
        "colab_type": "code",
        "colab": {}
      },
      "source": [
        "# enqueue(i)--inserts element i at the tail end of the queue;\n",
        "# dequeue()--removes the element at the head of the queue and return its value."
      ],
      "execution_count": 0,
      "outputs": []
    },
    {
      "cell_type": "markdown",
      "metadata": {
        "id": "K8bvXNOVsh-_",
        "colab_type": "text"
      },
      "source": [
        ""
      ]
    }
  ]
}